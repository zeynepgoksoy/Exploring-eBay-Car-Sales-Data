{
  "cells": [
    {
      "cell_type": "markdown",
      "metadata": {
        "tags": [],
        "id": "nGjdZdhH-rzO"
      },
      "source": [
        "## Exploring eBay Car Sales Data\n",
        "\n",
        "This data is originally scraped form a german car sales eBay website by kaggle user 'orgesleka'\n",
        "\n",
        "Data dictionary for the dataset:\n",
        "\n",
        "* dateCrawled - When the ad was first crawled. All field-values are taken from this date.\n",
        "* name - Name of the car.\n",
        "* seller - Whether the seller is private or a dealer.\n",
        "* offerType - The type of listing.\n",
        "* price - The listed selling price of the car.\n",
        "* abtest - Whether the listing is included in an A/B test.\n",
        "* vehicleType - The type of vehicle.\n",
        "* yearOfRegistration - The year in which the car was first registered.\n",
        "* gearbox - The type of transmission.\n",
        "* powerPS - The power of the car in PS.\n",
        "* model - The car model name.\n",
        "* odometer - How many kilometers the car has driven.\n",
        "* monthOfRegistration - The month in which the car was first registered.\n",
        "* fuelType - What type of fuel the car uses.\n",
        "* brand - The brand of the car.\n",
        "* notRepairedDamage - If the car has a damage which is not yet repaired.\n",
        "* dateCreated - The date the eBay listing was created.\n",
        "* nrOfPictures - The number of pictures in the ad.\n",
        "* postalCode - The postal code for the location of the vehicle.\n",
        "* lastSeenOnline - When the crawler saw this ad last online."
      ]
    },
    {
      "cell_type": "code",
      "execution_count": null,
      "metadata": {
        "tags": [],
        "id": "f8YxL0ou-rzP"
      },
      "outputs": [],
      "source": [
        "import pandas as pd\n",
        "import numpy as np"
      ]
    },
    {
      "cell_type": "code",
      "execution_count": null,
      "metadata": {
        "id": "60683ejU-rzQ"
      },
      "outputs": [],
      "source": [
        "autos = pd.read_csv(\"autos.csv\" , encoding = 'latin1')"
      ]
    },
    {
      "cell_type": "code",
      "execution_count": null,
      "metadata": {
        "id": "Bsvzd0Xg-rzQ",
        "outputId": "79b1ae06-a33e-4d39-bc3a-d3f88c6be753"
      },
      "outputs": [
        {
          "data": {
            "text/html": [
              "<div>\n",
              "<style scoped>\n",
              "    .dataframe tbody tr th:only-of-type {\n",
              "        vertical-align: middle;\n",
              "    }\n",
              "\n",
              "    .dataframe tbody tr th {\n",
              "        vertical-align: top;\n",
              "    }\n",
              "\n",
              "    .dataframe thead th {\n",
              "        text-align: right;\n",
              "    }\n",
              "</style>\n",
              "<table border=\"1\" class=\"dataframe\">\n",
              "  <thead>\n",
              "    <tr style=\"text-align: right;\">\n",
              "      <th></th>\n",
              "      <th>dateCrawled</th>\n",
              "      <th>name</th>\n",
              "      <th>seller</th>\n",
              "      <th>offerType</th>\n",
              "      <th>price</th>\n",
              "      <th>abtest</th>\n",
              "      <th>vehicleType</th>\n",
              "      <th>yearOfRegistration</th>\n",
              "      <th>gearbox</th>\n",
              "      <th>powerPS</th>\n",
              "      <th>model</th>\n",
              "      <th>odometer</th>\n",
              "      <th>monthOfRegistration</th>\n",
              "      <th>fuelType</th>\n",
              "      <th>brand</th>\n",
              "      <th>notRepairedDamage</th>\n",
              "      <th>dateCreated</th>\n",
              "      <th>nrOfPictures</th>\n",
              "      <th>postalCode</th>\n",
              "      <th>lastSeen</th>\n",
              "    </tr>\n",
              "  </thead>\n",
              "  <tbody>\n",
              "    <tr>\n",
              "      <th>0</th>\n",
              "      <td>2016-03-26 17:47:46</td>\n",
              "      <td>Peugeot_807_160_NAVTECH_ON_BOARD</td>\n",
              "      <td>privat</td>\n",
              "      <td>Angebot</td>\n",
              "      <td>$5,000</td>\n",
              "      <td>control</td>\n",
              "      <td>bus</td>\n",
              "      <td>2004</td>\n",
              "      <td>manuell</td>\n",
              "      <td>158</td>\n",
              "      <td>andere</td>\n",
              "      <td>150,000km</td>\n",
              "      <td>3</td>\n",
              "      <td>lpg</td>\n",
              "      <td>peugeot</td>\n",
              "      <td>nein</td>\n",
              "      <td>2016-03-26 00:00:00</td>\n",
              "      <td>0</td>\n",
              "      <td>79588</td>\n",
              "      <td>2016-04-06 06:45:54</td>\n",
              "    </tr>\n",
              "    <tr>\n",
              "      <th>1</th>\n",
              "      <td>2016-04-04 13:38:56</td>\n",
              "      <td>BMW_740i_4_4_Liter_HAMANN_UMBAU_Mega_Optik</td>\n",
              "      <td>privat</td>\n",
              "      <td>Angebot</td>\n",
              "      <td>$8,500</td>\n",
              "      <td>control</td>\n",
              "      <td>limousine</td>\n",
              "      <td>1997</td>\n",
              "      <td>automatik</td>\n",
              "      <td>286</td>\n",
              "      <td>7er</td>\n",
              "      <td>150,000km</td>\n",
              "      <td>6</td>\n",
              "      <td>benzin</td>\n",
              "      <td>bmw</td>\n",
              "      <td>nein</td>\n",
              "      <td>2016-04-04 00:00:00</td>\n",
              "      <td>0</td>\n",
              "      <td>71034</td>\n",
              "      <td>2016-04-06 14:45:08</td>\n",
              "    </tr>\n",
              "    <tr>\n",
              "      <th>2</th>\n",
              "      <td>2016-03-26 18:57:24</td>\n",
              "      <td>Volkswagen_Golf_1.6_United</td>\n",
              "      <td>privat</td>\n",
              "      <td>Angebot</td>\n",
              "      <td>$8,990</td>\n",
              "      <td>test</td>\n",
              "      <td>limousine</td>\n",
              "      <td>2009</td>\n",
              "      <td>manuell</td>\n",
              "      <td>102</td>\n",
              "      <td>golf</td>\n",
              "      <td>70,000km</td>\n",
              "      <td>7</td>\n",
              "      <td>benzin</td>\n",
              "      <td>volkswagen</td>\n",
              "      <td>nein</td>\n",
              "      <td>2016-03-26 00:00:00</td>\n",
              "      <td>0</td>\n",
              "      <td>35394</td>\n",
              "      <td>2016-04-06 20:15:37</td>\n",
              "    </tr>\n",
              "    <tr>\n",
              "      <th>3</th>\n",
              "      <td>2016-03-12 16:58:10</td>\n",
              "      <td>Smart_smart_fortwo_coupe_softouch/F1/Klima/Pan...</td>\n",
              "      <td>privat</td>\n",
              "      <td>Angebot</td>\n",
              "      <td>$4,350</td>\n",
              "      <td>control</td>\n",
              "      <td>kleinwagen</td>\n",
              "      <td>2007</td>\n",
              "      <td>automatik</td>\n",
              "      <td>71</td>\n",
              "      <td>fortwo</td>\n",
              "      <td>70,000km</td>\n",
              "      <td>6</td>\n",
              "      <td>benzin</td>\n",
              "      <td>smart</td>\n",
              "      <td>nein</td>\n",
              "      <td>2016-03-12 00:00:00</td>\n",
              "      <td>0</td>\n",
              "      <td>33729</td>\n",
              "      <td>2016-03-15 03:16:28</td>\n",
              "    </tr>\n",
              "    <tr>\n",
              "      <th>4</th>\n",
              "      <td>2016-04-01 14:38:50</td>\n",
              "      <td>Ford_Focus_1_6_Benzin_TÜV_neu_ist_sehr_gepfleg...</td>\n",
              "      <td>privat</td>\n",
              "      <td>Angebot</td>\n",
              "      <td>$1,350</td>\n",
              "      <td>test</td>\n",
              "      <td>kombi</td>\n",
              "      <td>2003</td>\n",
              "      <td>manuell</td>\n",
              "      <td>0</td>\n",
              "      <td>focus</td>\n",
              "      <td>150,000km</td>\n",
              "      <td>7</td>\n",
              "      <td>benzin</td>\n",
              "      <td>ford</td>\n",
              "      <td>nein</td>\n",
              "      <td>2016-04-01 00:00:00</td>\n",
              "      <td>0</td>\n",
              "      <td>39218</td>\n",
              "      <td>2016-04-01 14:38:50</td>\n",
              "    </tr>\n",
              "    <tr>\n",
              "      <th>...</th>\n",
              "      <td>...</td>\n",
              "      <td>...</td>\n",
              "      <td>...</td>\n",
              "      <td>...</td>\n",
              "      <td>...</td>\n",
              "      <td>...</td>\n",
              "      <td>...</td>\n",
              "      <td>...</td>\n",
              "      <td>...</td>\n",
              "      <td>...</td>\n",
              "      <td>...</td>\n",
              "      <td>...</td>\n",
              "      <td>...</td>\n",
              "      <td>...</td>\n",
              "      <td>...</td>\n",
              "      <td>...</td>\n",
              "      <td>...</td>\n",
              "      <td>...</td>\n",
              "      <td>...</td>\n",
              "      <td>...</td>\n",
              "    </tr>\n",
              "    <tr>\n",
              "      <th>49995</th>\n",
              "      <td>2016-03-27 14:38:19</td>\n",
              "      <td>Audi_Q5_3.0_TDI_qu._S_tr.__Navi__Panorama__Xenon</td>\n",
              "      <td>privat</td>\n",
              "      <td>Angebot</td>\n",
              "      <td>$24,900</td>\n",
              "      <td>control</td>\n",
              "      <td>limousine</td>\n",
              "      <td>2011</td>\n",
              "      <td>automatik</td>\n",
              "      <td>239</td>\n",
              "      <td>q5</td>\n",
              "      <td>100,000km</td>\n",
              "      <td>1</td>\n",
              "      <td>diesel</td>\n",
              "      <td>audi</td>\n",
              "      <td>nein</td>\n",
              "      <td>2016-03-27 00:00:00</td>\n",
              "      <td>0</td>\n",
              "      <td>82131</td>\n",
              "      <td>2016-04-01 13:47:40</td>\n",
              "    </tr>\n",
              "    <tr>\n",
              "      <th>49996</th>\n",
              "      <td>2016-03-28 10:50:25</td>\n",
              "      <td>Opel_Astra_F_Cabrio_Bertone_Edition___TÜV_neu+...</td>\n",
              "      <td>privat</td>\n",
              "      <td>Angebot</td>\n",
              "      <td>$1,980</td>\n",
              "      <td>control</td>\n",
              "      <td>cabrio</td>\n",
              "      <td>1996</td>\n",
              "      <td>manuell</td>\n",
              "      <td>75</td>\n",
              "      <td>astra</td>\n",
              "      <td>150,000km</td>\n",
              "      <td>5</td>\n",
              "      <td>benzin</td>\n",
              "      <td>opel</td>\n",
              "      <td>nein</td>\n",
              "      <td>2016-03-28 00:00:00</td>\n",
              "      <td>0</td>\n",
              "      <td>44807</td>\n",
              "      <td>2016-04-02 14:18:02</td>\n",
              "    </tr>\n",
              "    <tr>\n",
              "      <th>49997</th>\n",
              "      <td>2016-04-02 14:44:48</td>\n",
              "      <td>Fiat_500_C_1.2_Dualogic_Lounge</td>\n",
              "      <td>privat</td>\n",
              "      <td>Angebot</td>\n",
              "      <td>$13,200</td>\n",
              "      <td>test</td>\n",
              "      <td>cabrio</td>\n",
              "      <td>2014</td>\n",
              "      <td>automatik</td>\n",
              "      <td>69</td>\n",
              "      <td>500</td>\n",
              "      <td>5,000km</td>\n",
              "      <td>11</td>\n",
              "      <td>benzin</td>\n",
              "      <td>fiat</td>\n",
              "      <td>nein</td>\n",
              "      <td>2016-04-02 00:00:00</td>\n",
              "      <td>0</td>\n",
              "      <td>73430</td>\n",
              "      <td>2016-04-04 11:47:27</td>\n",
              "    </tr>\n",
              "    <tr>\n",
              "      <th>49998</th>\n",
              "      <td>2016-03-08 19:25:42</td>\n",
              "      <td>Audi_A3_2.0_TDI_Sportback_Ambition</td>\n",
              "      <td>privat</td>\n",
              "      <td>Angebot</td>\n",
              "      <td>$22,900</td>\n",
              "      <td>control</td>\n",
              "      <td>kombi</td>\n",
              "      <td>2013</td>\n",
              "      <td>manuell</td>\n",
              "      <td>150</td>\n",
              "      <td>a3</td>\n",
              "      <td>40,000km</td>\n",
              "      <td>11</td>\n",
              "      <td>diesel</td>\n",
              "      <td>audi</td>\n",
              "      <td>nein</td>\n",
              "      <td>2016-03-08 00:00:00</td>\n",
              "      <td>0</td>\n",
              "      <td>35683</td>\n",
              "      <td>2016-04-05 16:45:07</td>\n",
              "    </tr>\n",
              "    <tr>\n",
              "      <th>49999</th>\n",
              "      <td>2016-03-14 00:42:12</td>\n",
              "      <td>Opel_Vectra_1.6_16V</td>\n",
              "      <td>privat</td>\n",
              "      <td>Angebot</td>\n",
              "      <td>$1,250</td>\n",
              "      <td>control</td>\n",
              "      <td>limousine</td>\n",
              "      <td>1996</td>\n",
              "      <td>manuell</td>\n",
              "      <td>101</td>\n",
              "      <td>vectra</td>\n",
              "      <td>150,000km</td>\n",
              "      <td>1</td>\n",
              "      <td>benzin</td>\n",
              "      <td>opel</td>\n",
              "      <td>nein</td>\n",
              "      <td>2016-03-13 00:00:00</td>\n",
              "      <td>0</td>\n",
              "      <td>45897</td>\n",
              "      <td>2016-04-06 21:18:48</td>\n",
              "    </tr>\n",
              "  </tbody>\n",
              "</table>\n",
              "<p>50000 rows × 20 columns</p>\n",
              "</div>"
            ],
            "text/plain": [
              "               dateCrawled                                               name  \\\n",
              "0      2016-03-26 17:47:46                   Peugeot_807_160_NAVTECH_ON_BOARD   \n",
              "1      2016-04-04 13:38:56         BMW_740i_4_4_Liter_HAMANN_UMBAU_Mega_Optik   \n",
              "2      2016-03-26 18:57:24                         Volkswagen_Golf_1.6_United   \n",
              "3      2016-03-12 16:58:10  Smart_smart_fortwo_coupe_softouch/F1/Klima/Pan...   \n",
              "4      2016-04-01 14:38:50  Ford_Focus_1_6_Benzin_TÜV_neu_ist_sehr_gepfleg...   \n",
              "...                    ...                                                ...   \n",
              "49995  2016-03-27 14:38:19   Audi_Q5_3.0_TDI_qu._S_tr.__Navi__Panorama__Xenon   \n",
              "49996  2016-03-28 10:50:25  Opel_Astra_F_Cabrio_Bertone_Edition___TÜV_neu+...   \n",
              "49997  2016-04-02 14:44:48                     Fiat_500_C_1.2_Dualogic_Lounge   \n",
              "49998  2016-03-08 19:25:42                 Audi_A3_2.0_TDI_Sportback_Ambition   \n",
              "49999  2016-03-14 00:42:12                                Opel_Vectra_1.6_16V   \n",
              "\n",
              "       seller offerType    price   abtest vehicleType  yearOfRegistration  \\\n",
              "0      privat   Angebot   $5,000  control         bus                2004   \n",
              "1      privat   Angebot   $8,500  control   limousine                1997   \n",
              "2      privat   Angebot   $8,990     test   limousine                2009   \n",
              "3      privat   Angebot   $4,350  control  kleinwagen                2007   \n",
              "4      privat   Angebot   $1,350     test       kombi                2003   \n",
              "...       ...       ...      ...      ...         ...                 ...   \n",
              "49995  privat   Angebot  $24,900  control   limousine                2011   \n",
              "49996  privat   Angebot   $1,980  control      cabrio                1996   \n",
              "49997  privat   Angebot  $13,200     test      cabrio                2014   \n",
              "49998  privat   Angebot  $22,900  control       kombi                2013   \n",
              "49999  privat   Angebot   $1,250  control   limousine                1996   \n",
              "\n",
              "         gearbox  powerPS   model   odometer  monthOfRegistration fuelType  \\\n",
              "0        manuell      158  andere  150,000km                    3      lpg   \n",
              "1      automatik      286     7er  150,000km                    6   benzin   \n",
              "2        manuell      102    golf   70,000km                    7   benzin   \n",
              "3      automatik       71  fortwo   70,000km                    6   benzin   \n",
              "4        manuell        0   focus  150,000km                    7   benzin   \n",
              "...          ...      ...     ...        ...                  ...      ...   \n",
              "49995  automatik      239      q5  100,000km                    1   diesel   \n",
              "49996    manuell       75   astra  150,000km                    5   benzin   \n",
              "49997  automatik       69     500    5,000km                   11   benzin   \n",
              "49998    manuell      150      a3   40,000km                   11   diesel   \n",
              "49999    manuell      101  vectra  150,000km                    1   benzin   \n",
              "\n",
              "            brand notRepairedDamage          dateCreated  nrOfPictures  \\\n",
              "0         peugeot              nein  2016-03-26 00:00:00             0   \n",
              "1             bmw              nein  2016-04-04 00:00:00             0   \n",
              "2      volkswagen              nein  2016-03-26 00:00:00             0   \n",
              "3           smart              nein  2016-03-12 00:00:00             0   \n",
              "4            ford              nein  2016-04-01 00:00:00             0   \n",
              "...           ...               ...                  ...           ...   \n",
              "49995        audi              nein  2016-03-27 00:00:00             0   \n",
              "49996        opel              nein  2016-03-28 00:00:00             0   \n",
              "49997        fiat              nein  2016-04-02 00:00:00             0   \n",
              "49998        audi              nein  2016-03-08 00:00:00             0   \n",
              "49999        opel              nein  2016-03-13 00:00:00             0   \n",
              "\n",
              "       postalCode             lastSeen  \n",
              "0           79588  2016-04-06 06:45:54  \n",
              "1           71034  2016-04-06 14:45:08  \n",
              "2           35394  2016-04-06 20:15:37  \n",
              "3           33729  2016-03-15 03:16:28  \n",
              "4           39218  2016-04-01 14:38:50  \n",
              "...           ...                  ...  \n",
              "49995       82131  2016-04-01 13:47:40  \n",
              "49996       44807  2016-04-02 14:18:02  \n",
              "49997       73430  2016-04-04 11:47:27  \n",
              "49998       35683  2016-04-05 16:45:07  \n",
              "49999       45897  2016-04-06 21:18:48  \n",
              "\n",
              "[50000 rows x 20 columns]"
            ]
          },
          "execution_count": 4,
          "metadata": {},
          "output_type": "execute_result"
        }
      ],
      "source": [
        "autos"
      ]
    },
    {
      "cell_type": "code",
      "execution_count": null,
      "metadata": {
        "id": "wq1LbU36-rzQ",
        "outputId": "612206d7-7646-4a8e-979e-64c91b40e5e8"
      },
      "outputs": [
        {
          "name": "stdout",
          "output_type": "stream",
          "text": [
            "<class 'pandas.core.frame.DataFrame'>\n",
            "RangeIndex: 50000 entries, 0 to 49999\n",
            "Data columns (total 20 columns):\n",
            " #   Column               Non-Null Count  Dtype \n",
            "---  ------               --------------  ----- \n",
            " 0   dateCrawled          50000 non-null  object\n",
            " 1   name                 50000 non-null  object\n",
            " 2   seller               50000 non-null  object\n",
            " 3   offerType            50000 non-null  object\n",
            " 4   price                50000 non-null  object\n",
            " 5   abtest               50000 non-null  object\n",
            " 6   vehicleType          44905 non-null  object\n",
            " 7   yearOfRegistration   50000 non-null  int64 \n",
            " 8   gearbox              47320 non-null  object\n",
            " 9   powerPS              50000 non-null  int64 \n",
            " 10  model                47242 non-null  object\n",
            " 11  odometer             50000 non-null  object\n",
            " 12  monthOfRegistration  50000 non-null  int64 \n",
            " 13  fuelType             45518 non-null  object\n",
            " 14  brand                50000 non-null  object\n",
            " 15  notRepairedDamage    40171 non-null  object\n",
            " 16  dateCreated          50000 non-null  object\n",
            " 17  nrOfPictures         50000 non-null  int64 \n",
            " 18  postalCode           50000 non-null  int64 \n",
            " 19  lastSeen             50000 non-null  object\n",
            "dtypes: int64(5), object(15)\n",
            "memory usage: 7.6+ MB\n"
          ]
        }
      ],
      "source": [
        "autos.info()"
      ]
    },
    {
      "cell_type": "code",
      "execution_count": null,
      "metadata": {
        "id": "vqF2H25S-rzQ",
        "outputId": "c8ed7c1b-763c-4d88-bc7c-3574b1c0af64"
      },
      "outputs": [
        {
          "data": {
            "text/html": [
              "<div>\n",
              "<style scoped>\n",
              "    .dataframe tbody tr th:only-of-type {\n",
              "        vertical-align: middle;\n",
              "    }\n",
              "\n",
              "    .dataframe tbody tr th {\n",
              "        vertical-align: top;\n",
              "    }\n",
              "\n",
              "    .dataframe thead th {\n",
              "        text-align: right;\n",
              "    }\n",
              "</style>\n",
              "<table border=\"1\" class=\"dataframe\">\n",
              "  <thead>\n",
              "    <tr style=\"text-align: right;\">\n",
              "      <th></th>\n",
              "      <th>dateCrawled</th>\n",
              "      <th>name</th>\n",
              "      <th>seller</th>\n",
              "      <th>offerType</th>\n",
              "      <th>price</th>\n",
              "      <th>abtest</th>\n",
              "      <th>vehicleType</th>\n",
              "      <th>yearOfRegistration</th>\n",
              "      <th>gearbox</th>\n",
              "      <th>powerPS</th>\n",
              "      <th>model</th>\n",
              "      <th>odometer</th>\n",
              "      <th>monthOfRegistration</th>\n",
              "      <th>fuelType</th>\n",
              "      <th>brand</th>\n",
              "      <th>notRepairedDamage</th>\n",
              "      <th>dateCreated</th>\n",
              "      <th>nrOfPictures</th>\n",
              "      <th>postalCode</th>\n",
              "      <th>lastSeen</th>\n",
              "    </tr>\n",
              "  </thead>\n",
              "  <tbody>\n",
              "    <tr>\n",
              "      <th>0</th>\n",
              "      <td>2016-03-26 17:47:46</td>\n",
              "      <td>Peugeot_807_160_NAVTECH_ON_BOARD</td>\n",
              "      <td>privat</td>\n",
              "      <td>Angebot</td>\n",
              "      <td>$5,000</td>\n",
              "      <td>control</td>\n",
              "      <td>bus</td>\n",
              "      <td>2004</td>\n",
              "      <td>manuell</td>\n",
              "      <td>158</td>\n",
              "      <td>andere</td>\n",
              "      <td>150,000km</td>\n",
              "      <td>3</td>\n",
              "      <td>lpg</td>\n",
              "      <td>peugeot</td>\n",
              "      <td>nein</td>\n",
              "      <td>2016-03-26 00:00:00</td>\n",
              "      <td>0</td>\n",
              "      <td>79588</td>\n",
              "      <td>2016-04-06 06:45:54</td>\n",
              "    </tr>\n",
              "    <tr>\n",
              "      <th>1</th>\n",
              "      <td>2016-04-04 13:38:56</td>\n",
              "      <td>BMW_740i_4_4_Liter_HAMANN_UMBAU_Mega_Optik</td>\n",
              "      <td>privat</td>\n",
              "      <td>Angebot</td>\n",
              "      <td>$8,500</td>\n",
              "      <td>control</td>\n",
              "      <td>limousine</td>\n",
              "      <td>1997</td>\n",
              "      <td>automatik</td>\n",
              "      <td>286</td>\n",
              "      <td>7er</td>\n",
              "      <td>150,000km</td>\n",
              "      <td>6</td>\n",
              "      <td>benzin</td>\n",
              "      <td>bmw</td>\n",
              "      <td>nein</td>\n",
              "      <td>2016-04-04 00:00:00</td>\n",
              "      <td>0</td>\n",
              "      <td>71034</td>\n",
              "      <td>2016-04-06 14:45:08</td>\n",
              "    </tr>\n",
              "    <tr>\n",
              "      <th>2</th>\n",
              "      <td>2016-03-26 18:57:24</td>\n",
              "      <td>Volkswagen_Golf_1.6_United</td>\n",
              "      <td>privat</td>\n",
              "      <td>Angebot</td>\n",
              "      <td>$8,990</td>\n",
              "      <td>test</td>\n",
              "      <td>limousine</td>\n",
              "      <td>2009</td>\n",
              "      <td>manuell</td>\n",
              "      <td>102</td>\n",
              "      <td>golf</td>\n",
              "      <td>70,000km</td>\n",
              "      <td>7</td>\n",
              "      <td>benzin</td>\n",
              "      <td>volkswagen</td>\n",
              "      <td>nein</td>\n",
              "      <td>2016-03-26 00:00:00</td>\n",
              "      <td>0</td>\n",
              "      <td>35394</td>\n",
              "      <td>2016-04-06 20:15:37</td>\n",
              "    </tr>\n",
              "    <tr>\n",
              "      <th>3</th>\n",
              "      <td>2016-03-12 16:58:10</td>\n",
              "      <td>Smart_smart_fortwo_coupe_softouch/F1/Klima/Pan...</td>\n",
              "      <td>privat</td>\n",
              "      <td>Angebot</td>\n",
              "      <td>$4,350</td>\n",
              "      <td>control</td>\n",
              "      <td>kleinwagen</td>\n",
              "      <td>2007</td>\n",
              "      <td>automatik</td>\n",
              "      <td>71</td>\n",
              "      <td>fortwo</td>\n",
              "      <td>70,000km</td>\n",
              "      <td>6</td>\n",
              "      <td>benzin</td>\n",
              "      <td>smart</td>\n",
              "      <td>nein</td>\n",
              "      <td>2016-03-12 00:00:00</td>\n",
              "      <td>0</td>\n",
              "      <td>33729</td>\n",
              "      <td>2016-03-15 03:16:28</td>\n",
              "    </tr>\n",
              "    <tr>\n",
              "      <th>4</th>\n",
              "      <td>2016-04-01 14:38:50</td>\n",
              "      <td>Ford_Focus_1_6_Benzin_TÜV_neu_ist_sehr_gepfleg...</td>\n",
              "      <td>privat</td>\n",
              "      <td>Angebot</td>\n",
              "      <td>$1,350</td>\n",
              "      <td>test</td>\n",
              "      <td>kombi</td>\n",
              "      <td>2003</td>\n",
              "      <td>manuell</td>\n",
              "      <td>0</td>\n",
              "      <td>focus</td>\n",
              "      <td>150,000km</td>\n",
              "      <td>7</td>\n",
              "      <td>benzin</td>\n",
              "      <td>ford</td>\n",
              "      <td>nein</td>\n",
              "      <td>2016-04-01 00:00:00</td>\n",
              "      <td>0</td>\n",
              "      <td>39218</td>\n",
              "      <td>2016-04-01 14:38:50</td>\n",
              "    </tr>\n",
              "  </tbody>\n",
              "</table>\n",
              "</div>"
            ],
            "text/plain": [
              "           dateCrawled                                               name  \\\n",
              "0  2016-03-26 17:47:46                   Peugeot_807_160_NAVTECH_ON_BOARD   \n",
              "1  2016-04-04 13:38:56         BMW_740i_4_4_Liter_HAMANN_UMBAU_Mega_Optik   \n",
              "2  2016-03-26 18:57:24                         Volkswagen_Golf_1.6_United   \n",
              "3  2016-03-12 16:58:10  Smart_smart_fortwo_coupe_softouch/F1/Klima/Pan...   \n",
              "4  2016-04-01 14:38:50  Ford_Focus_1_6_Benzin_TÜV_neu_ist_sehr_gepfleg...   \n",
              "\n",
              "   seller offerType   price   abtest vehicleType  yearOfRegistration  \\\n",
              "0  privat   Angebot  $5,000  control         bus                2004   \n",
              "1  privat   Angebot  $8,500  control   limousine                1997   \n",
              "2  privat   Angebot  $8,990     test   limousine                2009   \n",
              "3  privat   Angebot  $4,350  control  kleinwagen                2007   \n",
              "4  privat   Angebot  $1,350     test       kombi                2003   \n",
              "\n",
              "     gearbox  powerPS   model   odometer  monthOfRegistration fuelType  \\\n",
              "0    manuell      158  andere  150,000km                    3      lpg   \n",
              "1  automatik      286     7er  150,000km                    6   benzin   \n",
              "2    manuell      102    golf   70,000km                    7   benzin   \n",
              "3  automatik       71  fortwo   70,000km                    6   benzin   \n",
              "4    manuell        0   focus  150,000km                    7   benzin   \n",
              "\n",
              "        brand notRepairedDamage          dateCreated  nrOfPictures  \\\n",
              "0     peugeot              nein  2016-03-26 00:00:00             0   \n",
              "1         bmw              nein  2016-04-04 00:00:00             0   \n",
              "2  volkswagen              nein  2016-03-26 00:00:00             0   \n",
              "3       smart              nein  2016-03-12 00:00:00             0   \n",
              "4        ford              nein  2016-04-01 00:00:00             0   \n",
              "\n",
              "   postalCode             lastSeen  \n",
              "0       79588  2016-04-06 06:45:54  \n",
              "1       71034  2016-04-06 14:45:08  \n",
              "2       35394  2016-04-06 20:15:37  \n",
              "3       33729  2016-03-15 03:16:28  \n",
              "4       39218  2016-04-01 14:38:50  "
            ]
          },
          "execution_count": 6,
          "metadata": {},
          "output_type": "execute_result"
        }
      ],
      "source": [
        "autos.head()"
      ]
    },
    {
      "cell_type": "markdown",
      "metadata": {
        "id": "lPf-pEXB-rzQ"
      },
      "source": [
        "* we will change the columns in autos dataframe from camelcase format to snakecase format and change some of the names to better understanding\n"
      ]
    },
    {
      "cell_type": "code",
      "execution_count": null,
      "metadata": {
        "id": "SsNpX1lQ-rzR",
        "outputId": "0ec5a33f-0838-48ba-8ffc-c947a4f83ae3"
      },
      "outputs": [
        {
          "data": {
            "text/plain": [
              "Index(['dateCrawled', 'name', 'seller', 'offerType', 'price', 'abtest',\n",
              "       'vehicleType', 'yearOfRegistration', 'gearbox', 'powerPS', 'model',\n",
              "       'odometer', 'monthOfRegistration', 'fuelType', 'brand',\n",
              "       'notRepairedDamage', 'dateCreated', 'nrOfPictures', 'postalCode',\n",
              "       'lastSeen'],\n",
              "      dtype='object')"
            ]
          },
          "execution_count": 7,
          "metadata": {},
          "output_type": "execute_result"
        }
      ],
      "source": [
        "autos.columns"
      ]
    },
    {
      "cell_type": "code",
      "execution_count": null,
      "metadata": {
        "id": "KZ30DGvV-rzR"
      },
      "outputs": [],
      "source": [
        "autos.rename(columns={'yearOfRegistration':'registration_year',\n",
        "                      'monthOfRegistration':'registration_month',\n",
        "                      'notRepairedDamage':'unrepaired_damage',\n",
        "                      'dateCreated':'ad_created'}, inplace=True)"
      ]
    },
    {
      "cell_type": "code",
      "execution_count": null,
      "metadata": {
        "id": "hkpN4o72-rzR"
      },
      "outputs": [],
      "source": [
        "import re\n",
        "def camel_to_snake(camelString):\n",
        "    return re.sub(r'([A-Z]+)',r'_\\1',camelString).lower()"
      ]
    },
    {
      "cell_type": "code",
      "execution_count": null,
      "metadata": {
        "id": "QA0GqTxn-rzR"
      },
      "outputs": [],
      "source": [
        "for i,column in enumerate(autos.columns):\n",
        "    autos.columns.values[i] = camel_to_snake(column)\n"
      ]
    },
    {
      "cell_type": "code",
      "execution_count": null,
      "metadata": {
        "id": "07500BBR-rzR",
        "outputId": "14e09473-9b53-4d30-ac11-49219e74f470"
      },
      "outputs": [
        {
          "data": {
            "text/plain": [
              "Index(['date_crawled', 'name', 'seller', 'offer_type', 'price', 'abtest',\n",
              "       'vehicle_type', 'registration_year', 'gearbox', 'power_ps', 'model',\n",
              "       'odometer', 'registration_month', 'fuel_type', 'brand',\n",
              "       'unrepaired_damage', 'ad_created', 'nr_of_pictures', 'postal_code',\n",
              "       'last_seen'],\n",
              "      dtype='object')"
            ]
          },
          "execution_count": 11,
          "metadata": {},
          "output_type": "execute_result"
        }
      ],
      "source": [
        "autos.columns"
      ]
    },
    {
      "cell_type": "code",
      "execution_count": null,
      "metadata": {
        "id": "qDIFIqGt-rzR",
        "outputId": "f44684d9-634e-49dc-d75d-1941c17a0b90"
      },
      "outputs": [
        {
          "data": {
            "text/html": [
              "<div>\n",
              "<style scoped>\n",
              "    .dataframe tbody tr th:only-of-type {\n",
              "        vertical-align: middle;\n",
              "    }\n",
              "\n",
              "    .dataframe tbody tr th {\n",
              "        vertical-align: top;\n",
              "    }\n",
              "\n",
              "    .dataframe thead th {\n",
              "        text-align: right;\n",
              "    }\n",
              "</style>\n",
              "<table border=\"1\" class=\"dataframe\">\n",
              "  <thead>\n",
              "    <tr style=\"text-align: right;\">\n",
              "      <th></th>\n",
              "      <th>date_crawled</th>\n",
              "      <th>name</th>\n",
              "      <th>seller</th>\n",
              "      <th>offer_type</th>\n",
              "      <th>price</th>\n",
              "      <th>abtest</th>\n",
              "      <th>vehicle_type</th>\n",
              "      <th>registration_year</th>\n",
              "      <th>gearbox</th>\n",
              "      <th>power_ps</th>\n",
              "      <th>model</th>\n",
              "      <th>odometer</th>\n",
              "      <th>registration_month</th>\n",
              "      <th>fuel_type</th>\n",
              "      <th>brand</th>\n",
              "      <th>unrepaired_damage</th>\n",
              "      <th>ad_created</th>\n",
              "      <th>nr_of_pictures</th>\n",
              "      <th>postal_code</th>\n",
              "      <th>last_seen</th>\n",
              "    </tr>\n",
              "  </thead>\n",
              "  <tbody>\n",
              "    <tr>\n",
              "      <th>0</th>\n",
              "      <td>2016-03-26 17:47:46</td>\n",
              "      <td>Peugeot_807_160_NAVTECH_ON_BOARD</td>\n",
              "      <td>privat</td>\n",
              "      <td>Angebot</td>\n",
              "      <td>$5,000</td>\n",
              "      <td>control</td>\n",
              "      <td>bus</td>\n",
              "      <td>2004</td>\n",
              "      <td>manuell</td>\n",
              "      <td>158</td>\n",
              "      <td>andere</td>\n",
              "      <td>150,000km</td>\n",
              "      <td>3</td>\n",
              "      <td>lpg</td>\n",
              "      <td>peugeot</td>\n",
              "      <td>nein</td>\n",
              "      <td>2016-03-26 00:00:00</td>\n",
              "      <td>0</td>\n",
              "      <td>79588</td>\n",
              "      <td>2016-04-06 06:45:54</td>\n",
              "    </tr>\n",
              "    <tr>\n",
              "      <th>1</th>\n",
              "      <td>2016-04-04 13:38:56</td>\n",
              "      <td>BMW_740i_4_4_Liter_HAMANN_UMBAU_Mega_Optik</td>\n",
              "      <td>privat</td>\n",
              "      <td>Angebot</td>\n",
              "      <td>$8,500</td>\n",
              "      <td>control</td>\n",
              "      <td>limousine</td>\n",
              "      <td>1997</td>\n",
              "      <td>automatik</td>\n",
              "      <td>286</td>\n",
              "      <td>7er</td>\n",
              "      <td>150,000km</td>\n",
              "      <td>6</td>\n",
              "      <td>benzin</td>\n",
              "      <td>bmw</td>\n",
              "      <td>nein</td>\n",
              "      <td>2016-04-04 00:00:00</td>\n",
              "      <td>0</td>\n",
              "      <td>71034</td>\n",
              "      <td>2016-04-06 14:45:08</td>\n",
              "    </tr>\n",
              "    <tr>\n",
              "      <th>2</th>\n",
              "      <td>2016-03-26 18:57:24</td>\n",
              "      <td>Volkswagen_Golf_1.6_United</td>\n",
              "      <td>privat</td>\n",
              "      <td>Angebot</td>\n",
              "      <td>$8,990</td>\n",
              "      <td>test</td>\n",
              "      <td>limousine</td>\n",
              "      <td>2009</td>\n",
              "      <td>manuell</td>\n",
              "      <td>102</td>\n",
              "      <td>golf</td>\n",
              "      <td>70,000km</td>\n",
              "      <td>7</td>\n",
              "      <td>benzin</td>\n",
              "      <td>volkswagen</td>\n",
              "      <td>nein</td>\n",
              "      <td>2016-03-26 00:00:00</td>\n",
              "      <td>0</td>\n",
              "      <td>35394</td>\n",
              "      <td>2016-04-06 20:15:37</td>\n",
              "    </tr>\n",
              "    <tr>\n",
              "      <th>3</th>\n",
              "      <td>2016-03-12 16:58:10</td>\n",
              "      <td>Smart_smart_fortwo_coupe_softouch/F1/Klima/Pan...</td>\n",
              "      <td>privat</td>\n",
              "      <td>Angebot</td>\n",
              "      <td>$4,350</td>\n",
              "      <td>control</td>\n",
              "      <td>kleinwagen</td>\n",
              "      <td>2007</td>\n",
              "      <td>automatik</td>\n",
              "      <td>71</td>\n",
              "      <td>fortwo</td>\n",
              "      <td>70,000km</td>\n",
              "      <td>6</td>\n",
              "      <td>benzin</td>\n",
              "      <td>smart</td>\n",
              "      <td>nein</td>\n",
              "      <td>2016-03-12 00:00:00</td>\n",
              "      <td>0</td>\n",
              "      <td>33729</td>\n",
              "      <td>2016-03-15 03:16:28</td>\n",
              "    </tr>\n",
              "    <tr>\n",
              "      <th>4</th>\n",
              "      <td>2016-04-01 14:38:50</td>\n",
              "      <td>Ford_Focus_1_6_Benzin_TÜV_neu_ist_sehr_gepfleg...</td>\n",
              "      <td>privat</td>\n",
              "      <td>Angebot</td>\n",
              "      <td>$1,350</td>\n",
              "      <td>test</td>\n",
              "      <td>kombi</td>\n",
              "      <td>2003</td>\n",
              "      <td>manuell</td>\n",
              "      <td>0</td>\n",
              "      <td>focus</td>\n",
              "      <td>150,000km</td>\n",
              "      <td>7</td>\n",
              "      <td>benzin</td>\n",
              "      <td>ford</td>\n",
              "      <td>nein</td>\n",
              "      <td>2016-04-01 00:00:00</td>\n",
              "      <td>0</td>\n",
              "      <td>39218</td>\n",
              "      <td>2016-04-01 14:38:50</td>\n",
              "    </tr>\n",
              "  </tbody>\n",
              "</table>\n",
              "</div>"
            ],
            "text/plain": [
              "          date_crawled                                               name  \\\n",
              "0  2016-03-26 17:47:46                   Peugeot_807_160_NAVTECH_ON_BOARD   \n",
              "1  2016-04-04 13:38:56         BMW_740i_4_4_Liter_HAMANN_UMBAU_Mega_Optik   \n",
              "2  2016-03-26 18:57:24                         Volkswagen_Golf_1.6_United   \n",
              "3  2016-03-12 16:58:10  Smart_smart_fortwo_coupe_softouch/F1/Klima/Pan...   \n",
              "4  2016-04-01 14:38:50  Ford_Focus_1_6_Benzin_TÜV_neu_ist_sehr_gepfleg...   \n",
              "\n",
              "   seller offer_type   price   abtest vehicle_type  registration_year  \\\n",
              "0  privat    Angebot  $5,000  control          bus               2004   \n",
              "1  privat    Angebot  $8,500  control    limousine               1997   \n",
              "2  privat    Angebot  $8,990     test    limousine               2009   \n",
              "3  privat    Angebot  $4,350  control   kleinwagen               2007   \n",
              "4  privat    Angebot  $1,350     test        kombi               2003   \n",
              "\n",
              "     gearbox  power_ps   model   odometer  registration_month fuel_type  \\\n",
              "0    manuell       158  andere  150,000km                   3       lpg   \n",
              "1  automatik       286     7er  150,000km                   6    benzin   \n",
              "2    manuell       102    golf   70,000km                   7    benzin   \n",
              "3  automatik        71  fortwo   70,000km                   6    benzin   \n",
              "4    manuell         0   focus  150,000km                   7    benzin   \n",
              "\n",
              "        brand unrepaired_damage           ad_created  nr_of_pictures  \\\n",
              "0     peugeot              nein  2016-03-26 00:00:00               0   \n",
              "1         bmw              nein  2016-04-04 00:00:00               0   \n",
              "2  volkswagen              nein  2016-03-26 00:00:00               0   \n",
              "3       smart              nein  2016-03-12 00:00:00               0   \n",
              "4        ford              nein  2016-04-01 00:00:00               0   \n",
              "\n",
              "   postal_code            last_seen  \n",
              "0        79588  2016-04-06 06:45:54  \n",
              "1        71034  2016-04-06 14:45:08  \n",
              "2        35394  2016-04-06 20:15:37  \n",
              "3        33729  2016-03-15 03:16:28  \n",
              "4        39218  2016-04-01 14:38:50  "
            ]
          },
          "execution_count": 12,
          "metadata": {},
          "output_type": "execute_result"
        }
      ],
      "source": [
        "autos.head()"
      ]
    },
    {
      "cell_type": "markdown",
      "metadata": {
        "id": "FZ_eHR4g-rzR"
      },
      "source": [
        "## Initial Data Exploration and Cleaning"
      ]
    },
    {
      "cell_type": "code",
      "execution_count": null,
      "metadata": {
        "id": "l4qjVs6Y-rzR",
        "outputId": "37bc7c1c-929d-45e3-ef65-d204c29def03"
      },
      "outputs": [
        {
          "data": {
            "text/html": [
              "<div>\n",
              "<style scoped>\n",
              "    .dataframe tbody tr th:only-of-type {\n",
              "        vertical-align: middle;\n",
              "    }\n",
              "\n",
              "    .dataframe tbody tr th {\n",
              "        vertical-align: top;\n",
              "    }\n",
              "\n",
              "    .dataframe thead th {\n",
              "        text-align: right;\n",
              "    }\n",
              "</style>\n",
              "<table border=\"1\" class=\"dataframe\">\n",
              "  <thead>\n",
              "    <tr style=\"text-align: right;\">\n",
              "      <th></th>\n",
              "      <th>date_crawled</th>\n",
              "      <th>name</th>\n",
              "      <th>seller</th>\n",
              "      <th>offer_type</th>\n",
              "      <th>price</th>\n",
              "      <th>abtest</th>\n",
              "      <th>vehicle_type</th>\n",
              "      <th>registration_year</th>\n",
              "      <th>gearbox</th>\n",
              "      <th>power_ps</th>\n",
              "      <th>model</th>\n",
              "      <th>odometer</th>\n",
              "      <th>registration_month</th>\n",
              "      <th>fuel_type</th>\n",
              "      <th>brand</th>\n",
              "      <th>unrepaired_damage</th>\n",
              "      <th>ad_created</th>\n",
              "      <th>nr_of_pictures</th>\n",
              "      <th>postal_code</th>\n",
              "      <th>last_seen</th>\n",
              "    </tr>\n",
              "  </thead>\n",
              "  <tbody>\n",
              "    <tr>\n",
              "      <th>count</th>\n",
              "      <td>50000</td>\n",
              "      <td>50000</td>\n",
              "      <td>50000</td>\n",
              "      <td>50000</td>\n",
              "      <td>50000</td>\n",
              "      <td>50000</td>\n",
              "      <td>44905</td>\n",
              "      <td>50000.000000</td>\n",
              "      <td>47320</td>\n",
              "      <td>50000.000000</td>\n",
              "      <td>47242</td>\n",
              "      <td>50000</td>\n",
              "      <td>50000.000000</td>\n",
              "      <td>45518</td>\n",
              "      <td>50000</td>\n",
              "      <td>40171</td>\n",
              "      <td>50000</td>\n",
              "      <td>50000.0</td>\n",
              "      <td>50000.000000</td>\n",
              "      <td>50000</td>\n",
              "    </tr>\n",
              "    <tr>\n",
              "      <th>unique</th>\n",
              "      <td>48213</td>\n",
              "      <td>38754</td>\n",
              "      <td>2</td>\n",
              "      <td>2</td>\n",
              "      <td>2357</td>\n",
              "      <td>2</td>\n",
              "      <td>8</td>\n",
              "      <td>NaN</td>\n",
              "      <td>2</td>\n",
              "      <td>NaN</td>\n",
              "      <td>245</td>\n",
              "      <td>13</td>\n",
              "      <td>NaN</td>\n",
              "      <td>7</td>\n",
              "      <td>40</td>\n",
              "      <td>2</td>\n",
              "      <td>76</td>\n",
              "      <td>NaN</td>\n",
              "      <td>NaN</td>\n",
              "      <td>39481</td>\n",
              "    </tr>\n",
              "    <tr>\n",
              "      <th>top</th>\n",
              "      <td>2016-04-02 11:37:04</td>\n",
              "      <td>Ford_Fiesta</td>\n",
              "      <td>privat</td>\n",
              "      <td>Angebot</td>\n",
              "      <td>$0</td>\n",
              "      <td>test</td>\n",
              "      <td>limousine</td>\n",
              "      <td>NaN</td>\n",
              "      <td>manuell</td>\n",
              "      <td>NaN</td>\n",
              "      <td>golf</td>\n",
              "      <td>150,000km</td>\n",
              "      <td>NaN</td>\n",
              "      <td>benzin</td>\n",
              "      <td>volkswagen</td>\n",
              "      <td>nein</td>\n",
              "      <td>2016-04-03 00:00:00</td>\n",
              "      <td>NaN</td>\n",
              "      <td>NaN</td>\n",
              "      <td>2016-04-07 06:17:27</td>\n",
              "    </tr>\n",
              "    <tr>\n",
              "      <th>freq</th>\n",
              "      <td>3</td>\n",
              "      <td>78</td>\n",
              "      <td>49999</td>\n",
              "      <td>49999</td>\n",
              "      <td>1421</td>\n",
              "      <td>25756</td>\n",
              "      <td>12859</td>\n",
              "      <td>NaN</td>\n",
              "      <td>36993</td>\n",
              "      <td>NaN</td>\n",
              "      <td>4024</td>\n",
              "      <td>32424</td>\n",
              "      <td>NaN</td>\n",
              "      <td>30107</td>\n",
              "      <td>10687</td>\n",
              "      <td>35232</td>\n",
              "      <td>1946</td>\n",
              "      <td>NaN</td>\n",
              "      <td>NaN</td>\n",
              "      <td>8</td>\n",
              "    </tr>\n",
              "    <tr>\n",
              "      <th>mean</th>\n",
              "      <td>NaN</td>\n",
              "      <td>NaN</td>\n",
              "      <td>NaN</td>\n",
              "      <td>NaN</td>\n",
              "      <td>NaN</td>\n",
              "      <td>NaN</td>\n",
              "      <td>NaN</td>\n",
              "      <td>2005.073280</td>\n",
              "      <td>NaN</td>\n",
              "      <td>116.355920</td>\n",
              "      <td>NaN</td>\n",
              "      <td>NaN</td>\n",
              "      <td>5.723360</td>\n",
              "      <td>NaN</td>\n",
              "      <td>NaN</td>\n",
              "      <td>NaN</td>\n",
              "      <td>NaN</td>\n",
              "      <td>0.0</td>\n",
              "      <td>50813.627300</td>\n",
              "      <td>NaN</td>\n",
              "    </tr>\n",
              "    <tr>\n",
              "      <th>std</th>\n",
              "      <td>NaN</td>\n",
              "      <td>NaN</td>\n",
              "      <td>NaN</td>\n",
              "      <td>NaN</td>\n",
              "      <td>NaN</td>\n",
              "      <td>NaN</td>\n",
              "      <td>NaN</td>\n",
              "      <td>105.712813</td>\n",
              "      <td>NaN</td>\n",
              "      <td>209.216627</td>\n",
              "      <td>NaN</td>\n",
              "      <td>NaN</td>\n",
              "      <td>3.711984</td>\n",
              "      <td>NaN</td>\n",
              "      <td>NaN</td>\n",
              "      <td>NaN</td>\n",
              "      <td>NaN</td>\n",
              "      <td>0.0</td>\n",
              "      <td>25779.747957</td>\n",
              "      <td>NaN</td>\n",
              "    </tr>\n",
              "    <tr>\n",
              "      <th>min</th>\n",
              "      <td>NaN</td>\n",
              "      <td>NaN</td>\n",
              "      <td>NaN</td>\n",
              "      <td>NaN</td>\n",
              "      <td>NaN</td>\n",
              "      <td>NaN</td>\n",
              "      <td>NaN</td>\n",
              "      <td>1000.000000</td>\n",
              "      <td>NaN</td>\n",
              "      <td>0.000000</td>\n",
              "      <td>NaN</td>\n",
              "      <td>NaN</td>\n",
              "      <td>0.000000</td>\n",
              "      <td>NaN</td>\n",
              "      <td>NaN</td>\n",
              "      <td>NaN</td>\n",
              "      <td>NaN</td>\n",
              "      <td>0.0</td>\n",
              "      <td>1067.000000</td>\n",
              "      <td>NaN</td>\n",
              "    </tr>\n",
              "    <tr>\n",
              "      <th>25%</th>\n",
              "      <td>NaN</td>\n",
              "      <td>NaN</td>\n",
              "      <td>NaN</td>\n",
              "      <td>NaN</td>\n",
              "      <td>NaN</td>\n",
              "      <td>NaN</td>\n",
              "      <td>NaN</td>\n",
              "      <td>1999.000000</td>\n",
              "      <td>NaN</td>\n",
              "      <td>70.000000</td>\n",
              "      <td>NaN</td>\n",
              "      <td>NaN</td>\n",
              "      <td>3.000000</td>\n",
              "      <td>NaN</td>\n",
              "      <td>NaN</td>\n",
              "      <td>NaN</td>\n",
              "      <td>NaN</td>\n",
              "      <td>0.0</td>\n",
              "      <td>30451.000000</td>\n",
              "      <td>NaN</td>\n",
              "    </tr>\n",
              "    <tr>\n",
              "      <th>50%</th>\n",
              "      <td>NaN</td>\n",
              "      <td>NaN</td>\n",
              "      <td>NaN</td>\n",
              "      <td>NaN</td>\n",
              "      <td>NaN</td>\n",
              "      <td>NaN</td>\n",
              "      <td>NaN</td>\n",
              "      <td>2003.000000</td>\n",
              "      <td>NaN</td>\n",
              "      <td>105.000000</td>\n",
              "      <td>NaN</td>\n",
              "      <td>NaN</td>\n",
              "      <td>6.000000</td>\n",
              "      <td>NaN</td>\n",
              "      <td>NaN</td>\n",
              "      <td>NaN</td>\n",
              "      <td>NaN</td>\n",
              "      <td>0.0</td>\n",
              "      <td>49577.000000</td>\n",
              "      <td>NaN</td>\n",
              "    </tr>\n",
              "    <tr>\n",
              "      <th>75%</th>\n",
              "      <td>NaN</td>\n",
              "      <td>NaN</td>\n",
              "      <td>NaN</td>\n",
              "      <td>NaN</td>\n",
              "      <td>NaN</td>\n",
              "      <td>NaN</td>\n",
              "      <td>NaN</td>\n",
              "      <td>2008.000000</td>\n",
              "      <td>NaN</td>\n",
              "      <td>150.000000</td>\n",
              "      <td>NaN</td>\n",
              "      <td>NaN</td>\n",
              "      <td>9.000000</td>\n",
              "      <td>NaN</td>\n",
              "      <td>NaN</td>\n",
              "      <td>NaN</td>\n",
              "      <td>NaN</td>\n",
              "      <td>0.0</td>\n",
              "      <td>71540.000000</td>\n",
              "      <td>NaN</td>\n",
              "    </tr>\n",
              "    <tr>\n",
              "      <th>max</th>\n",
              "      <td>NaN</td>\n",
              "      <td>NaN</td>\n",
              "      <td>NaN</td>\n",
              "      <td>NaN</td>\n",
              "      <td>NaN</td>\n",
              "      <td>NaN</td>\n",
              "      <td>NaN</td>\n",
              "      <td>9999.000000</td>\n",
              "      <td>NaN</td>\n",
              "      <td>17700.000000</td>\n",
              "      <td>NaN</td>\n",
              "      <td>NaN</td>\n",
              "      <td>12.000000</td>\n",
              "      <td>NaN</td>\n",
              "      <td>NaN</td>\n",
              "      <td>NaN</td>\n",
              "      <td>NaN</td>\n",
              "      <td>0.0</td>\n",
              "      <td>99998.000000</td>\n",
              "      <td>NaN</td>\n",
              "    </tr>\n",
              "  </tbody>\n",
              "</table>\n",
              "</div>"
            ],
            "text/plain": [
              "               date_crawled         name  seller offer_type  price abtest  \\\n",
              "count                 50000        50000   50000      50000  50000  50000   \n",
              "unique                48213        38754       2          2   2357      2   \n",
              "top     2016-04-02 11:37:04  Ford_Fiesta  privat    Angebot     $0   test   \n",
              "freq                      3           78   49999      49999   1421  25756   \n",
              "mean                    NaN          NaN     NaN        NaN    NaN    NaN   \n",
              "std                     NaN          NaN     NaN        NaN    NaN    NaN   \n",
              "min                     NaN          NaN     NaN        NaN    NaN    NaN   \n",
              "25%                     NaN          NaN     NaN        NaN    NaN    NaN   \n",
              "50%                     NaN          NaN     NaN        NaN    NaN    NaN   \n",
              "75%                     NaN          NaN     NaN        NaN    NaN    NaN   \n",
              "max                     NaN          NaN     NaN        NaN    NaN    NaN   \n",
              "\n",
              "       vehicle_type  registration_year  gearbox      power_ps  model  \\\n",
              "count         44905       50000.000000    47320  50000.000000  47242   \n",
              "unique            8                NaN        2           NaN    245   \n",
              "top       limousine                NaN  manuell           NaN   golf   \n",
              "freq          12859                NaN    36993           NaN   4024   \n",
              "mean            NaN        2005.073280      NaN    116.355920    NaN   \n",
              "std             NaN         105.712813      NaN    209.216627    NaN   \n",
              "min             NaN        1000.000000      NaN      0.000000    NaN   \n",
              "25%             NaN        1999.000000      NaN     70.000000    NaN   \n",
              "50%             NaN        2003.000000      NaN    105.000000    NaN   \n",
              "75%             NaN        2008.000000      NaN    150.000000    NaN   \n",
              "max             NaN        9999.000000      NaN  17700.000000    NaN   \n",
              "\n",
              "         odometer  registration_month fuel_type       brand unrepaired_damage  \\\n",
              "count       50000        50000.000000     45518       50000             40171   \n",
              "unique         13                 NaN         7          40                 2   \n",
              "top     150,000km                 NaN    benzin  volkswagen              nein   \n",
              "freq        32424                 NaN     30107       10687             35232   \n",
              "mean          NaN            5.723360       NaN         NaN               NaN   \n",
              "std           NaN            3.711984       NaN         NaN               NaN   \n",
              "min           NaN            0.000000       NaN         NaN               NaN   \n",
              "25%           NaN            3.000000       NaN         NaN               NaN   \n",
              "50%           NaN            6.000000       NaN         NaN               NaN   \n",
              "75%           NaN            9.000000       NaN         NaN               NaN   \n",
              "max           NaN           12.000000       NaN         NaN               NaN   \n",
              "\n",
              "                 ad_created  nr_of_pictures   postal_code            last_seen  \n",
              "count                 50000         50000.0  50000.000000                50000  \n",
              "unique                   76             NaN           NaN                39481  \n",
              "top     2016-04-03 00:00:00             NaN           NaN  2016-04-07 06:17:27  \n",
              "freq                   1946             NaN           NaN                    8  \n",
              "mean                    NaN             0.0  50813.627300                  NaN  \n",
              "std                     NaN             0.0  25779.747957                  NaN  \n",
              "min                     NaN             0.0   1067.000000                  NaN  \n",
              "25%                     NaN             0.0  30451.000000                  NaN  \n",
              "50%                     NaN             0.0  49577.000000                  NaN  \n",
              "75%                     NaN             0.0  71540.000000                  NaN  \n",
              "max                     NaN             0.0  99998.000000                  NaN  "
            ]
          },
          "execution_count": 13,
          "metadata": {},
          "output_type": "execute_result"
        }
      ],
      "source": [
        "autos.describe(include='all') # with include='all' we get both categorical and numeric columns"
      ]
    },
    {
      "cell_type": "markdown",
      "metadata": {
        "id": "zHAI8E7S-rzR"
      },
      "source": [
        "Our initial observations:\n",
        "* `seller` column and `offer_type` column has where nearly all of the values same.\n",
        "* `nr_of_pictures` column looks odd, we will investigate this further.\n"
      ]
    },
    {
      "cell_type": "code",
      "execution_count": null,
      "metadata": {
        "id": "HfUjnzjF-rzR",
        "outputId": "58ba686a-0b06-409f-eabf-8d6aea087c75"
      },
      "outputs": [
        {
          "data": {
            "text/plain": [
              "0    50000\n",
              "Name: nr_of_pictures, dtype: int64"
            ]
          },
          "execution_count": 14,
          "metadata": {},
          "output_type": "execute_result"
        }
      ],
      "source": [
        "autos['nr_of_pictures'].value_counts().sort_index(ascending=True)"
      ]
    },
    {
      "cell_type": "markdown",
      "metadata": {
        "id": "_XoeUgiy-rzR"
      },
      "source": [
        "As we see above `nr_of_pictures` column has `0` for every row. So we can drop this column.\n",
        "\n",
        "Since `seller` and `offer_type` columns has the same situation like `nr_of_pictures` column we will drop these columns too."
      ]
    },
    {
      "cell_type": "markdown",
      "metadata": {
        "id": "_hN-3TPm-rzR"
      },
      "source": [
        "Reorganizing `price` column:\n",
        "* Price column contains dollar sign and comma. To change this column type from text to numeric dtype we need to remove the dollar sign and replace the comma with dot"
      ]
    },
    {
      "cell_type": "code",
      "execution_count": null,
      "metadata": {
        "id": "8Yp-DXZH-rzR",
        "outputId": "1c1a073f-536d-494c-f2f8-9bfaec00fe91"
      },
      "outputs": [
        {
          "name": "stderr",
          "output_type": "stream",
          "text": [
            "/tmp/ipykernel_64/3544741403.py:1: FutureWarning: The default value of regex will change from True to False in a future version. In addition, single character regular expressions will *not* be treated as literal strings when regex=True.\n",
            "  autos['price']=autos['price'].str.replace('$','').str.replace(',','').astype(int)\n"
          ]
        }
      ],
      "source": [
        "autos['price']=autos['price'].str.replace('$','').str.replace(',','').astype(int)"
      ]
    },
    {
      "cell_type": "code",
      "execution_count": null,
      "metadata": {
        "id": "_WqnCgoR-rzR",
        "outputId": "16f06d44-5596-4b5f-aead-7d8dab608c3c"
      },
      "outputs": [
        {
          "data": {
            "text/plain": [
              "0         5000\n",
              "1         8500\n",
              "2         8990\n",
              "3         4350\n",
              "4         1350\n",
              "         ...  \n",
              "49995    24900\n",
              "49996     1980\n",
              "49997    13200\n",
              "49998    22900\n",
              "49999     1250\n",
              "Name: price, Length: 50000, dtype: int64"
            ]
          },
          "execution_count": 16,
          "metadata": {},
          "output_type": "execute_result"
        }
      ],
      "source": [
        "autos['price']"
      ]
    },
    {
      "cell_type": "code",
      "execution_count": null,
      "metadata": {
        "id": "eGbX_rDZ-rzR",
        "outputId": "dc9e97c3-f1c3-4b50-aeb1-5f1239affaef"
      },
      "outputs": [
        {
          "data": {
            "text/plain": [
              "count    5.000000e+04\n",
              "mean     9.840044e+03\n",
              "std      4.811044e+05\n",
              "min      0.000000e+00\n",
              "25%      1.100000e+03\n",
              "50%      2.950000e+03\n",
              "75%      7.200000e+03\n",
              "max      1.000000e+08\n",
              "Name: price, dtype: float64"
            ]
          },
          "execution_count": 17,
          "metadata": {},
          "output_type": "execute_result"
        }
      ],
      "source": [
        "autos['price'].describe()"
      ]
    },
    {
      "cell_type": "code",
      "execution_count": null,
      "metadata": {
        "id": "5snCJLv8-rzS",
        "outputId": "229a87c6-1294-4df0-aa88-17eb33288a69"
      },
      "outputs": [
        {
          "data": {
            "text/plain": [
              "0        150,000km\n",
              "1        150,000km\n",
              "2         70,000km\n",
              "3         70,000km\n",
              "4        150,000km\n",
              "           ...    \n",
              "49995    100,000km\n",
              "49996    150,000km\n",
              "49997      5,000km\n",
              "49998     40,000km\n",
              "49999    150,000km\n",
              "Name: odometer, Length: 50000, dtype: object"
            ]
          },
          "execution_count": 18,
          "metadata": {},
          "output_type": "execute_result"
        }
      ],
      "source": [
        "autos['odometer']"
      ]
    },
    {
      "cell_type": "code",
      "execution_count": null,
      "metadata": {
        "id": "l9JEuw6r-rzS"
      },
      "outputs": [],
      "source": [
        "autos['odometer'] = autos['odometer'].str.replace('km','').str.replace(',','').astype(int)"
      ]
    },
    {
      "cell_type": "code",
      "execution_count": null,
      "metadata": {
        "id": "yv3Kf7Rh-rzS",
        "outputId": "122e5188-b813-4333-977c-f4e0907ed896"
      },
      "outputs": [
        {
          "data": {
            "text/plain": [
              "0        150000\n",
              "1        150000\n",
              "2         70000\n",
              "3         70000\n",
              "4        150000\n",
              "          ...  \n",
              "49995    100000\n",
              "49996    150000\n",
              "49997      5000\n",
              "49998     40000\n",
              "49999    150000\n",
              "Name: odometer, Length: 50000, dtype: int64"
            ]
          },
          "execution_count": 20,
          "metadata": {},
          "output_type": "execute_result"
        }
      ],
      "source": [
        "autos['odometer']"
      ]
    },
    {
      "cell_type": "code",
      "execution_count": null,
      "metadata": {
        "id": "U4lrg40n-rzS"
      },
      "outputs": [],
      "source": [
        "autos.rename({'odometer':'odometer_km'},axis=1,inplace=True)"
      ]
    },
    {
      "cell_type": "code",
      "execution_count": null,
      "metadata": {
        "id": "4k94y-l6-rzS",
        "outputId": "9c28fcd6-e6dc-4c87-d21f-8707baf1941c"
      },
      "outputs": [
        {
          "data": {
            "text/html": [
              "<div>\n",
              "<style scoped>\n",
              "    .dataframe tbody tr th:only-of-type {\n",
              "        vertical-align: middle;\n",
              "    }\n",
              "\n",
              "    .dataframe tbody tr th {\n",
              "        vertical-align: top;\n",
              "    }\n",
              "\n",
              "    .dataframe thead th {\n",
              "        text-align: right;\n",
              "    }\n",
              "</style>\n",
              "<table border=\"1\" class=\"dataframe\">\n",
              "  <thead>\n",
              "    <tr style=\"text-align: right;\">\n",
              "      <th></th>\n",
              "      <th>date_crawled</th>\n",
              "      <th>name</th>\n",
              "      <th>seller</th>\n",
              "      <th>offer_type</th>\n",
              "      <th>price</th>\n",
              "      <th>abtest</th>\n",
              "      <th>vehicle_type</th>\n",
              "      <th>registration_year</th>\n",
              "      <th>gearbox</th>\n",
              "      <th>power_ps</th>\n",
              "      <th>model</th>\n",
              "      <th>odometer_km</th>\n",
              "      <th>registration_month</th>\n",
              "      <th>fuel_type</th>\n",
              "      <th>brand</th>\n",
              "      <th>unrepaired_damage</th>\n",
              "      <th>ad_created</th>\n",
              "      <th>nr_of_pictures</th>\n",
              "      <th>postal_code</th>\n",
              "      <th>last_seen</th>\n",
              "    </tr>\n",
              "  </thead>\n",
              "  <tbody>\n",
              "  </tbody>\n",
              "</table>\n",
              "</div>"
            ],
            "text/plain": [
              "Empty DataFrame\n",
              "Columns: [date_crawled, name, seller, offer_type, price, abtest, vehicle_type, registration_year, gearbox, power_ps, model, odometer_km, registration_month, fuel_type, brand, unrepaired_damage, ad_created, nr_of_pictures, postal_code, last_seen]\n",
              "Index: []"
            ]
          },
          "execution_count": 22,
          "metadata": {},
          "output_type": "execute_result"
        }
      ],
      "source": [
        "autos.head(0)"
      ]
    },
    {
      "cell_type": "code",
      "execution_count": null,
      "metadata": {
        "id": "YvcW9hYa-rzS",
        "outputId": "4d800f94-1454-4cb5-ae5c-d052f83c4e1c"
      },
      "outputs": [
        {
          "data": {
            "text/plain": [
              "privat        49999\n",
              "gewerblich        1\n",
              "Name: seller, dtype: int64"
            ]
          },
          "execution_count": 23,
          "metadata": {},
          "output_type": "execute_result"
        }
      ],
      "source": [
        "autos['seller'].value_counts()"
      ]
    },
    {
      "cell_type": "code",
      "execution_count": null,
      "metadata": {
        "id": "H_E181JY-rzS",
        "outputId": "129e7f1e-2aa7-40fb-aea6-5bd4bdd97e9f"
      },
      "outputs": [
        {
          "data": {
            "text/plain": [
              "Angebot    49999\n",
              "Gesuch         1\n",
              "Name: offer_type, dtype: int64"
            ]
          },
          "execution_count": 24,
          "metadata": {},
          "output_type": "execute_result"
        }
      ],
      "source": [
        "autos['offer_type'].value_counts()"
      ]
    },
    {
      "cell_type": "code",
      "execution_count": null,
      "metadata": {
        "id": "8qqHG1DE-rzS",
        "outputId": "b20e5f84-a751-4d5c-a229-4eac99f5533e"
      },
      "outputs": [
        {
          "data": {
            "text/plain": [
              "(2357,)"
            ]
          },
          "execution_count": 25,
          "metadata": {},
          "output_type": "execute_result"
        }
      ],
      "source": [
        "autos['price'].unique().shape"
      ]
    },
    {
      "cell_type": "code",
      "execution_count": null,
      "metadata": {
        "id": "1JJKqAFl-rzS",
        "outputId": "f0a7f398-ac1a-4fda-c14f-d91091528436"
      },
      "outputs": [
        {
          "data": {
            "text/plain": [
              "count    5.000000e+04\n",
              "mean     9.840044e+03\n",
              "std      4.811044e+05\n",
              "min      0.000000e+00\n",
              "25%      1.100000e+03\n",
              "50%      2.950000e+03\n",
              "75%      7.200000e+03\n",
              "max      1.000000e+08\n",
              "Name: price, dtype: float64"
            ]
          },
          "execution_count": 26,
          "metadata": {},
          "output_type": "execute_result"
        }
      ],
      "source": [
        "autos['price'].describe()"
      ]
    },
    {
      "cell_type": "code",
      "execution_count": null,
      "metadata": {
        "id": "yXB1psAU-rzS",
        "outputId": "a9b07bf9-7da6-43d7-8195-2a3927a38f12"
      },
      "outputs": [
        {
          "data": {
            "text/plain": [
              "0           1421\n",
              "1            156\n",
              "2              3\n",
              "3              1\n",
              "5              2\n",
              "            ... \n",
              "10000000       1\n",
              "11111111       2\n",
              "12345678       3\n",
              "27322222       1\n",
              "99999999       1\n",
              "Name: price, Length: 2357, dtype: int64"
            ]
          },
          "execution_count": 27,
          "metadata": {},
          "output_type": "execute_result"
        }
      ],
      "source": [
        "autos['price'].value_counts().sort_index(ascending=True)"
      ]
    },
    {
      "cell_type": "markdown",
      "metadata": {
        "id": "CqyJ2UYd-rzS"
      },
      "source": [
        "As we look at the price values of cars in this site we see there is 1421 record for 0 dollar. Also there is a very high numbers at the high end of the sorting. These numbers might be outliers let's look at these values closer"
      ]
    },
    {
      "cell_type": "code",
      "execution_count": null,
      "metadata": {
        "id": "M8YdbJ7t-rzS",
        "outputId": "022f09ae-5ef7-4f6b-c46c-a4ed1a57367f"
      },
      "outputs": [
        {
          "name": "stdout",
          "output_type": "stream",
          "text": [
            "0     1421\n",
            "1      156\n",
            "2        3\n",
            "3        1\n",
            "5        2\n",
            "8        1\n",
            "9        1\n",
            "10       7\n",
            "11       2\n",
            "12       3\n",
            "13       2\n",
            "14       1\n",
            "15       2\n",
            "17       3\n",
            "18       1\n",
            "20       4\n",
            "25       5\n",
            "29       1\n",
            "30       7\n",
            "35       1\n",
            "40       6\n",
            "45       4\n",
            "47       1\n",
            "49       4\n",
            "50      49\n",
            "55       2\n",
            "59       1\n",
            "60       9\n",
            "65       5\n",
            "66       1\n",
            "Name: price, dtype: int64\n",
            "197000      1\n",
            "198000      1\n",
            "220000      1\n",
            "250000      1\n",
            "259000      1\n",
            "265000      1\n",
            "295000      1\n",
            "299000      1\n",
            "345000      1\n",
            "350000      1\n",
            "999990      1\n",
            "999999      2\n",
            "1234566     1\n",
            "1300000     1\n",
            "3890000     1\n",
            "10000000    1\n",
            "11111111    2\n",
            "12345678    3\n",
            "27322222    1\n",
            "99999999    1\n",
            "Name: price, dtype: int64\n"
          ]
        }
      ],
      "source": [
        "print(autos['price'].value_counts().sort_index(ascending=True).head(30))\n",
        "print(autos['price'].value_counts().sort_index(ascending=True).tail(20))"
      ]
    },
    {
      "cell_type": "markdown",
      "metadata": {
        "id": "RwHjv_rr-rzS"
      },
      "source": [
        "As we see there is record's for the price under the 50 dollars. These numbers are suspicious for a car price so we will clean it from df.\n",
        "\n",
        "When we look at the high end of the records we can see there is a high jump after 350000, so this might also be outlier. These values also will be cleaned from df."
      ]
    },
    {
      "cell_type": "code",
      "execution_count": null,
      "metadata": {
        "tags": [],
        "id": "44kk60Jn-rzS"
      },
      "outputs": [],
      "source": [
        "autos = autos.drop(autos[((autos['price']<50) | (autos['price']>350000))].index)"
      ]
    },
    {
      "cell_type": "code",
      "execution_count": null,
      "metadata": {
        "id": "GsKJ26zI-rzS",
        "outputId": "6ada272d-cada-4932-98ae-ce432b923973"
      },
      "outputs": [
        {
          "data": {
            "text/plain": [
              "50        49\n",
              "55         2\n",
              "59         1\n",
              "60         9\n",
              "65         5\n",
              "          ..\n",
              "265000     1\n",
              "295000     1\n",
              "299000     1\n",
              "345000     1\n",
              "350000     1\n",
              "Name: price, Length: 2323, dtype: int64"
            ]
          },
          "execution_count": 30,
          "metadata": {},
          "output_type": "execute_result"
        }
      ],
      "source": [
        "autos['price'].value_counts().sort_index(ascending=True)"
      ]
    },
    {
      "cell_type": "code",
      "execution_count": null,
      "metadata": {
        "id": "tEElOXn--rzS",
        "outputId": "6bdab554-ffce-437b-8f3b-222274479846"
      },
      "outputs": [
        {
          "data": {
            "text/plain": [
              "count     48347.000000\n",
              "mean     125875.752373\n",
              "std       39618.501091\n",
              "min        5000.000000\n",
              "25%      125000.000000\n",
              "50%      150000.000000\n",
              "75%      150000.000000\n",
              "max      150000.000000\n",
              "Name: odometer_km, dtype: float64"
            ]
          },
          "execution_count": 31,
          "metadata": {},
          "output_type": "execute_result"
        }
      ],
      "source": [
        "autos['odometer_km'].describe()"
      ]
    },
    {
      "cell_type": "code",
      "execution_count": null,
      "metadata": {
        "id": "cSslIZbq-rzS",
        "outputId": "8dea95ba-dd50-4eb6-a533-b671dd1902cf"
      },
      "outputs": [
        {
          "data": {
            "text/plain": [
              "5000        782\n",
              "10000       249\n",
              "20000       759\n",
              "30000       778\n",
              "40000       815\n",
              "50000      1011\n",
              "60000      1153\n",
              "70000      1215\n",
              "80000      1414\n",
              "90000      1733\n",
              "100000     2105\n",
              "125000     5045\n",
              "150000    31288\n",
              "Name: odometer_km, dtype: int64"
            ]
          },
          "execution_count": 32,
          "metadata": {},
          "output_type": "execute_result"
        }
      ],
      "source": [
        "autos['odometer_km'].value_counts().sort_index(ascending=True)"
      ]
    },
    {
      "cell_type": "markdown",
      "metadata": {
        "id": "ZjJb13oR-rza"
      },
      "source": [
        "We can say that the km values here are rounded."
      ]
    },
    {
      "cell_type": "markdown",
      "metadata": {
        "id": "zPVSY7xD-rza"
      },
      "source": [
        "## Exploring the Date Columns"
      ]
    },
    {
      "cell_type": "code",
      "execution_count": null,
      "metadata": {
        "id": "-FgxQjfj-rza",
        "outputId": "bb776b47-8be9-49c9-de96-62cc1887aaa3"
      },
      "outputs": [
        {
          "data": {
            "text/html": [
              "<div>\n",
              "<style scoped>\n",
              "    .dataframe tbody tr th:only-of-type {\n",
              "        vertical-align: middle;\n",
              "    }\n",
              "\n",
              "    .dataframe tbody tr th {\n",
              "        vertical-align: top;\n",
              "    }\n",
              "\n",
              "    .dataframe thead th {\n",
              "        text-align: right;\n",
              "    }\n",
              "</style>\n",
              "<table border=\"1\" class=\"dataframe\">\n",
              "  <thead>\n",
              "    <tr style=\"text-align: right;\">\n",
              "      <th></th>\n",
              "      <th>date_crawled</th>\n",
              "      <th>ad_created</th>\n",
              "      <th>last_seen</th>\n",
              "    </tr>\n",
              "  </thead>\n",
              "  <tbody>\n",
              "    <tr>\n",
              "      <th>0</th>\n",
              "      <td>2016-03-26 17:47:46</td>\n",
              "      <td>2016-03-26 00:00:00</td>\n",
              "      <td>2016-04-06 06:45:54</td>\n",
              "    </tr>\n",
              "    <tr>\n",
              "      <th>1</th>\n",
              "      <td>2016-04-04 13:38:56</td>\n",
              "      <td>2016-04-04 00:00:00</td>\n",
              "      <td>2016-04-06 14:45:08</td>\n",
              "    </tr>\n",
              "    <tr>\n",
              "      <th>2</th>\n",
              "      <td>2016-03-26 18:57:24</td>\n",
              "      <td>2016-03-26 00:00:00</td>\n",
              "      <td>2016-04-06 20:15:37</td>\n",
              "    </tr>\n",
              "    <tr>\n",
              "      <th>3</th>\n",
              "      <td>2016-03-12 16:58:10</td>\n",
              "      <td>2016-03-12 00:00:00</td>\n",
              "      <td>2016-03-15 03:16:28</td>\n",
              "    </tr>\n",
              "    <tr>\n",
              "      <th>4</th>\n",
              "      <td>2016-04-01 14:38:50</td>\n",
              "      <td>2016-04-01 00:00:00</td>\n",
              "      <td>2016-04-01 14:38:50</td>\n",
              "    </tr>\n",
              "  </tbody>\n",
              "</table>\n",
              "</div>"
            ],
            "text/plain": [
              "          date_crawled           ad_created            last_seen\n",
              "0  2016-03-26 17:47:46  2016-03-26 00:00:00  2016-04-06 06:45:54\n",
              "1  2016-04-04 13:38:56  2016-04-04 00:00:00  2016-04-06 14:45:08\n",
              "2  2016-03-26 18:57:24  2016-03-26 00:00:00  2016-04-06 20:15:37\n",
              "3  2016-03-12 16:58:10  2016-03-12 00:00:00  2016-03-15 03:16:28\n",
              "4  2016-04-01 14:38:50  2016-04-01 00:00:00  2016-04-01 14:38:50"
            ]
          },
          "execution_count": 34,
          "metadata": {},
          "output_type": "execute_result"
        }
      ],
      "source": [
        "autos[['date_crawled','ad_created','last_seen']][0:5]"
      ]
    },
    {
      "cell_type": "markdown",
      "metadata": {
        "id": "27E4j31C-rzb"
      },
      "source": [
        "There are a number of columns with date information:\n",
        "\n",
        "- `date_crawled`\n",
        "- `registration_month`\n",
        "- `registration_year`\n",
        "- `ad_created`\n",
        "- `last_seen`\n",
        "\n",
        "These are a combination of dates that were crawled, and dates with meta-information from the crawler. The non-registration dates are stored as strings.\n"
      ]
    },
    {
      "cell_type": "code",
      "execution_count": null,
      "metadata": {
        "id": "CCrN3mJK-rzb",
        "outputId": "f9aba538-58b5-4030-83e6-1169f0821a8a"
      },
      "outputs": [
        {
          "data": {
            "text/plain": [
              "0        2016-03-26 17:47:46\n",
              "1        2016-04-04 13:38:56\n",
              "2        2016-03-26 18:57:24\n",
              "3        2016-03-12 16:58:10\n",
              "4        2016-04-01 14:38:50\n",
              "                ...         \n",
              "49995    2016-03-27 14:38:19\n",
              "49996    2016-03-28 10:50:25\n",
              "49997    2016-04-02 14:44:48\n",
              "49998    2016-03-08 19:25:42\n",
              "49999    2016-03-14 00:42:12\n",
              "Name: date_crawled, Length: 48347, dtype: object"
            ]
          },
          "execution_count": 48,
          "metadata": {},
          "output_type": "execute_result"
        }
      ],
      "source": [
        "autos['date_crawled']"
      ]
    },
    {
      "cell_type": "code",
      "execution_count": null,
      "metadata": {
        "id": "BhtvRP08-rzb",
        "outputId": "02255084-1ce9-4daf-c38d-639abf92708e"
      },
      "outputs": [
        {
          "data": {
            "text/plain": [
              "2016-03-12 16:58:10    0.1\n",
              "2016-03-16 13:47:02    0.1\n",
              "2016-03-16 18:55:19    0.1\n",
              "2016-03-20 17:55:21    0.1\n",
              "2016-03-21 13:47:45    0.1\n",
              "2016-03-22 16:51:34    0.1\n",
              "2016-03-26 17:47:46    0.1\n",
              "2016-03-26 18:57:24    0.1\n",
              "2016-04-01 14:38:50    0.1\n",
              "2016-04-04 13:38:56    0.1\n",
              "Name: date_crawled, dtype: float64"
            ]
          },
          "execution_count": 51,
          "metadata": {},
          "output_type": "execute_result"
        }
      ],
      "source": [
        "(autos['date_crawled'].iloc[0:10].value_counts(normalize=True,dropna=False).sort_index())"
      ]
    },
    {
      "cell_type": "code",
      "execution_count": null,
      "metadata": {
        "id": "QongSQ9h-rzb",
        "outputId": "dd34e56f-f506-4bc4-8ab5-2e21d98c2d52"
      },
      "outputs": [
        {
          "data": {
            "text/plain": [
              "2016-03-05    0.025358\n",
              "2016-03-06    0.014065\n",
              "2016-03-07    0.036031\n",
              "2016-03-08    0.033260\n",
              "2016-03-09    0.033053\n",
              "2016-03-10    0.032225\n",
              "2016-03-11    0.032556\n",
              "2016-03-12    0.036983\n",
              "2016-03-13    0.015658\n",
              "2016-03-14    0.036672\n",
              "2016-03-15    0.034294\n",
              "2016-03-16    0.029495\n",
              "2016-03-17    0.031584\n",
              "2016-03-18    0.012907\n",
              "2016-03-19    0.034749\n",
              "2016-03-20    0.037789\n",
              "2016-03-21    0.037293\n",
              "2016-03-22    0.032949\n",
              "2016-03-23    0.032267\n",
              "2016-03-24    0.029433\n",
              "2016-03-25    0.031501\n",
              "2016-03-26    0.032267\n",
              "2016-03-27    0.031088\n",
              "2016-03-28    0.034894\n",
              "2016-03-29    0.034108\n",
              "2016-03-30    0.033715\n",
              "2016-03-31    0.031832\n",
              "2016-04-01    0.033735\n",
              "2016-04-02    0.035535\n",
              "2016-04-03    0.038575\n",
              "2016-04-04    0.036528\n",
              "2016-04-05    0.013051\n",
              "2016-04-06    0.003165\n",
              "2016-04-07    0.001386\n",
              "Name: date_crawled, dtype: float64"
            ]
          },
          "execution_count": 47,
          "metadata": {},
          "output_type": "execute_result"
        }
      ],
      "source": [
        "(autos[\"date_crawled\"]\n",
        "        .str[:10]\n",
        "        .value_counts(normalize=True, dropna=False)\n",
        "        .sort_index()\n",
        "        ) #sort index method rank date in ascending order(earliest to latest)"
      ]
    },
    {
      "cell_type": "code",
      "execution_count": null,
      "metadata": {
        "id": "0_RVVFT8-rzb",
        "outputId": "025c4f5d-8060-42e0-cb67-6c7cfc43d19f"
      },
      "outputs": [
        {
          "data": {
            "text/plain": [
              "2016-04-07    0.001386\n",
              "2016-04-06    0.003165\n",
              "2016-03-18    0.012907\n",
              "2016-04-05    0.013051\n",
              "2016-03-06    0.014065\n",
              "2016-03-13    0.015658\n",
              "2016-03-05    0.025358\n",
              "2016-03-24    0.029433\n",
              "2016-03-16    0.029495\n",
              "2016-03-27    0.031088\n",
              "2016-03-25    0.031501\n",
              "2016-03-17    0.031584\n",
              "2016-03-31    0.031832\n",
              "2016-03-10    0.032225\n",
              "2016-03-23    0.032267\n",
              "2016-03-26    0.032267\n",
              "2016-03-11    0.032556\n",
              "2016-03-22    0.032949\n",
              "2016-03-09    0.033053\n",
              "2016-03-08    0.033260\n",
              "2016-03-30    0.033715\n",
              "2016-04-01    0.033735\n",
              "2016-03-29    0.034108\n",
              "2016-03-15    0.034294\n",
              "2016-03-19    0.034749\n",
              "2016-03-28    0.034894\n",
              "2016-04-02    0.035535\n",
              "2016-03-07    0.036031\n",
              "2016-04-04    0.036528\n",
              "2016-03-14    0.036672\n",
              "2016-03-12    0.036983\n",
              "2016-03-21    0.037293\n",
              "2016-03-20    0.037789\n",
              "2016-04-03    0.038575\n",
              "Name: date_crawled, dtype: float64"
            ]
          },
          "execution_count": 54,
          "metadata": {},
          "output_type": "execute_result"
        }
      ],
      "source": [
        "(autos[\"date_crawled\"]\n",
        "        .str[:10]\n",
        "        .value_counts(normalize=True, dropna=False)\n",
        "        .sort_values()\n",
        "        )"
      ]
    },
    {
      "cell_type": "code",
      "execution_count": null,
      "metadata": {
        "id": "lo2XbgX6-rzb",
        "outputId": "0e1b2dca-8445-42d4-d6a1-fb5e171cb5a9"
      },
      "outputs": [
        {
          "data": {
            "text/plain": [
              "2015-06-11    0.000021\n",
              "2015-08-10    0.000021\n",
              "2015-09-09    0.000021\n",
              "2015-11-10    0.000021\n",
              "2015-12-05    0.000021\n",
              "                ...   \n",
              "2016-04-03    0.038824\n",
              "2016-04-04    0.036900\n",
              "2016-04-05    0.011769\n",
              "2016-04-06    0.003247\n",
              "2016-04-07    0.001241\n",
              "Name: ad_created, Length: 76, dtype: float64"
            ]
          },
          "execution_count": 53,
          "metadata": {},
          "output_type": "execute_result"
        }
      ],
      "source": [
        "(autos['ad_created']\n",
        "    .str[0:10]\n",
        "    .value_counts(normalize=True, dropna=False)\n",
        "    .sort_index()\n",
        "    )"
      ]
    },
    {
      "cell_type": "code",
      "execution_count": null,
      "metadata": {
        "id": "iHKLw3Xz-rzb",
        "outputId": "a35b4504-8b92-4c37-f070-ecad0433d1be"
      },
      "outputs": [
        {
          "data": {
            "text/plain": [
              "2016-03-05    0.001076\n",
              "2016-03-06    0.004323\n",
              "2016-03-07    0.005419\n",
              "2016-03-08    0.007343\n",
              "2016-03-09    0.009639\n",
              "2016-03-10    0.010611\n",
              "2016-03-11    0.012390\n",
              "2016-03-12    0.023745\n",
              "2016-03-13    0.008873\n",
              "2016-03-14    0.012638\n",
              "2016-03-15    0.015885\n",
              "2016-03-16    0.016464\n",
              "2016-03-17    0.028089\n",
              "2016-03-18    0.007322\n",
              "2016-03-19    0.015802\n",
              "2016-03-20    0.020622\n",
              "2016-03-21    0.020601\n",
              "2016-03-22    0.021408\n",
              "2016-03-23    0.018595\n",
              "2016-03-24    0.019774\n",
              "2016-03-25    0.019174\n",
              "2016-03-26    0.016775\n",
              "2016-03-27    0.015575\n",
              "2016-03-28    0.020849\n",
              "2016-03-29    0.022318\n",
              "2016-03-30    0.024738\n",
              "2016-03-31    0.023828\n",
              "2016-04-01    0.022876\n",
              "2016-04-02    0.024883\n",
              "2016-04-03    0.025172\n",
              "2016-04-04    0.024510\n",
              "2016-04-05    0.124972\n",
              "2016-04-06    0.221627\n",
              "2016-04-07    0.132087\n",
              "Name: last_seen, dtype: float64"
            ]
          },
          "execution_count": 55,
          "metadata": {},
          "output_type": "execute_result"
        }
      ],
      "source": [
        "(autos['last_seen']\n",
        "    .str[0:10]\n",
        "    .value_counts(normalize=True, dropna=False)\n",
        "    .sort_index()\n",
        "    )"
      ]
    },
    {
      "cell_type": "code",
      "execution_count": null,
      "metadata": {
        "id": "9SNV6M5d-rzb",
        "outputId": "16d351d6-a728-4754-c987-e3bf7a64190f"
      },
      "outputs": [
        {
          "data": {
            "text/plain": [
              "count    48347.000000\n",
              "mean      2004.718845\n",
              "std         87.786604\n",
              "min       1000.000000\n",
              "25%       1999.000000\n",
              "50%       2004.000000\n",
              "75%       2008.000000\n",
              "max       9999.000000\n",
              "Name: registration_year, dtype: float64"
            ]
          },
          "execution_count": 56,
          "metadata": {},
          "output_type": "execute_result"
        }
      ],
      "source": [
        "autos['registration_year'].describe()"
      ]
    },
    {
      "cell_type": "markdown",
      "metadata": {
        "id": "pMYxRvp3-rzb"
      },
      "source": [
        "Acceptable `registration_year`:\n",
        "\n",
        "The describe func for `registration_year` columns returns us min value as 1000 and max value for 9999 which is can't acceptable. Because of car's inventory does not align with this timestamp. Acceptable timestamp for car registration must be in between 1900's and 2016(which is the year that this website scraped)"
      ]
    },
    {
      "cell_type": "markdown",
      "metadata": {
        "id": "zrO2_jPs-rzc"
      },
      "source": [
        "## Dealing with Incorrect Registariton Year Data"
      ]
    },
    {
      "cell_type": "markdown",
      "metadata": {
        "id": "9vDmrRd7-rzc"
      },
      "source": [
        "One option is to remove the listings with these values. Let's determine what percentage of our data has invalid values in this column:"
      ]
    },
    {
      "cell_type": "code",
      "execution_count": null,
      "metadata": {
        "id": "5I_RYRLs-rzc",
        "outputId": "fe67eaa7-1527-46aa-8faa-62db967b72b0"
      },
      "outputs": [
        {
          "data": {
            "text/plain": [
              "0.038761453657931204"
            ]
          },
          "execution_count": 63,
          "metadata": {},
          "output_type": "execute_result"
        }
      ],
      "source": [
        "(~autos['registration_year'].between(1900,2016)).sum() / autos.shape[0] # Returns the percentage of the data out of the range of 1900-2016 to all data"
      ]
    },
    {
      "cell_type": "markdown",
      "metadata": {
        "id": "TZqUAwfB-rzd"
      },
      "source": [
        "Given that this is less than 4% of our data, we will remove these rows."
      ]
    },
    {
      "cell_type": "code",
      "execution_count": null,
      "metadata": {
        "id": "4hogY_M4-rzd"
      },
      "outputs": [],
      "source": [
        "#autos = autos.drop(autos[autos['registration_year']<1900 & autos['registration_year']>2016])"
      ]
    },
    {
      "cell_type": "code",
      "execution_count": null,
      "metadata": {
        "id": "UhdDldTg-rzd"
      },
      "outputs": [],
      "source": [
        "autos = autos[autos['registration_year'].between(1900,2016)]"
      ]
    },
    {
      "cell_type": "code",
      "execution_count": null,
      "metadata": {
        "id": "ARau6T3c-rzd",
        "outputId": "0b6b2d69-25f0-425f-d812-e649dbdbf3da"
      },
      "outputs": [
        {
          "data": {
            "text/plain": [
              "2000    0.067136\n",
              "2005    0.062854\n",
              "1999    0.062058\n",
              "2004    0.058077\n",
              "2003    0.057991\n",
              "2006    0.057453\n",
              "2001    0.056635\n",
              "2002    0.053321\n",
              "1998    0.050589\n",
              "2007    0.048932\n",
              "Name: registration_year, dtype: float64"
            ]
          },
          "execution_count": 71,
          "metadata": {},
          "output_type": "execute_result"
        }
      ],
      "source": [
        "autos['registration_year'].value_counts(normalize=True).head(10)"
      ]
    },
    {
      "cell_type": "markdown",
      "metadata": {
        "id": "5xeU12Vn-rzd"
      },
      "source": [
        "It appears that most of the vehicles were first registered in the past 20 years."
      ]
    },
    {
      "cell_type": "markdown",
      "metadata": {
        "id": "8Kgyg5um-rzd"
      },
      "source": [
        "## Exploring Brand Column"
      ]
    },
    {
      "cell_type": "code",
      "execution_count": null,
      "metadata": {
        "id": "Mh-R_JQP-rzd",
        "outputId": "b29bf2a2-a21f-4113-c2c4-aa60902cdab7"
      },
      "outputs": [
        {
          "data": {
            "text/plain": [
              "array(['peugeot', 'bmw', 'volkswagen', 'smart', 'ford', 'chrysler',\n",
              "       'seat', 'renault', 'mercedes_benz', 'audi', 'sonstige_autos',\n",
              "       'opel', 'mazda', 'porsche', 'mini', 'toyota', 'dacia', 'nissan',\n",
              "       'jeep', 'saab', 'volvo', 'mitsubishi', 'jaguar', 'fiat', 'skoda',\n",
              "       'subaru', 'kia', 'citroen', 'chevrolet', 'hyundai', 'honda',\n",
              "       'daewoo', 'suzuki', 'trabant', 'land_rover', 'alfa_romeo', 'lada',\n",
              "       'rover', 'daihatsu', 'lancia'], dtype=object)"
            ]
          },
          "execution_count": 75,
          "metadata": {},
          "output_type": "execute_result"
        }
      ],
      "source": [
        "unique_vehicle_brands = autos['brand'].unique()\n",
        "unique_vehicle_brands"
      ]
    },
    {
      "cell_type": "code",
      "execution_count": null,
      "metadata": {
        "id": "7D8R1n2n-rzd",
        "outputId": "f4578d8a-79fd-4491-e971-04c07430eded"
      },
      "outputs": [
        {
          "data": {
            "text/plain": [
              "volkswagen        0.211327\n",
              "bmw               0.109956\n",
              "opel              0.107310\n",
              "mercedes_benz     0.096508\n",
              "audi              0.086609\n",
              "ford              0.069976\n",
              "renault           0.047189\n",
              "peugeot           0.029910\n",
              "fiat              0.025714\n",
              "seat              0.018247\n",
              "skoda             0.016418\n",
              "nissan            0.015321\n",
              "mazda             0.015256\n",
              "smart             0.014180\n",
              "citroen           0.014051\n",
              "toyota            0.012760\n",
              "hyundai           0.010049\n",
              "sonstige_autos    0.009618\n",
              "volvo             0.009102\n",
              "mini              0.008779\n",
              "mitsubishi        0.008177\n",
              "honda             0.007854\n",
              "kia               0.007101\n",
              "alfa_romeo        0.006649\n",
              "porsche           0.006047\n",
              "suzuki            0.005939\n",
              "chevrolet         0.005702\n",
              "chrysler          0.003529\n",
              "dacia             0.002647\n",
              "daihatsu          0.002518\n",
              "jeep              0.002281\n",
              "land_rover        0.002109\n",
              "subaru            0.002109\n",
              "saab              0.001657\n",
              "jaguar            0.001571\n",
              "daewoo            0.001485\n",
              "trabant           0.001377\n",
              "rover             0.001334\n",
              "lancia            0.001054\n",
              "lada              0.000581\n",
              "Name: brand, dtype: float64"
            ]
          },
          "execution_count": 87,
          "metadata": {},
          "output_type": "execute_result"
        }
      ],
      "source": [
        "autos['brand'].value_counts(normalize=True)"
      ]
    },
    {
      "cell_type": "markdown",
      "metadata": {
        "id": "9Rp0_ikT-rzd"
      },
      "source": [
        "German manufacturers represent four out of the top five brands, almost 50% of the overall listings.  Volkswagen is by far the most popular brand, with approximately double the cars for sale of the next two brands combined.\n",
        "\n",
        "There are lots of brands that don't have a significant percentage of listings, so we will limit our analysis to brands representing more than 5% of total listings."
      ]
    },
    {
      "cell_type": "code",
      "execution_count": null,
      "metadata": {
        "id": "axsNs7ys-rzd",
        "outputId": "ddaab6a2-6bf7-4fcf-fe1c-64e2f5f46c70"
      },
      "outputs": [
        {
          "data": {
            "text/plain": [
              "Index(['volkswagen', 'bmw', 'opel', 'mercedes_benz', 'audi', 'ford'], dtype='object')"
            ]
          },
          "execution_count": 102,
          "metadata": {},
          "output_type": "execute_result"
        }
      ],
      "source": [
        "brand_counts = autos['brand'].value_counts(normalize=True)\n",
        "common_brands = brand_counts[brand_counts>0.05].index\n",
        "common_brands"
      ]
    },
    {
      "cell_type": "code",
      "execution_count": null,
      "metadata": {
        "id": "ET0fI7eF-rzd",
        "outputId": "67451d05-e5a8-4db5-d9e5-cacb6637b0c6"
      },
      "outputs": [
        {
          "data": {
            "text/plain": [
              "{'volkswagen': 5424,\n",
              " 'bmw': 8376,\n",
              " 'opel': 2996,\n",
              " 'mercedes_benz': 8663,\n",
              " 'audi': 9373,\n",
              " 'ford': 3762}"
            ]
          },
          "execution_count": 108,
          "metadata": {},
          "output_type": "execute_result"
        }
      ],
      "source": [
        "brand_mean_prices = {}\n",
        "\n",
        "for brand in common_brands:\n",
        "    brand_only = autos[autos['brand']==brand]\n",
        "    mean_price = brand_only['price'].mean()\n",
        "    brand_mean_prices[brand] = int(mean_price)\n",
        "\n",
        "brand_mean_prices"
      ]
    },
    {
      "cell_type": "markdown",
      "metadata": {
        "id": "tnK-Kp13-rzd"
      },
      "source": [
        "Of the top 5 brands, there is a distinct price gap:\n",
        "\n",
        "* Audi, Mercedes and BMW are most expensive\n",
        "* Ford and Opel less expensive.\n",
        "* Volkswagen is in between - this may explain its popularity, it may have the vehicles in each price ends."
      ]
    },
    {
      "cell_type": "markdown",
      "metadata": {
        "id": "_xnsfkCa-rzd"
      },
      "source": [
        "### Exploring Mileage"
      ]
    },
    {
      "cell_type": "markdown",
      "metadata": {
        "id": "VXXWUq7R-rzd"
      },
      "source": [
        "For the top 6 brands, let's use aggregation to understand the average mileage for those cars and if there's any visible link with mean price. While our natural instinct may be to display both aggregated series objects and visually compare them, this has a few limitations:\n",
        "\n",
        "* it's difficult to compare more than two aggregate series objects if we want to extend to more columns\n",
        "* we can't compare more than a few rows from each series object\n",
        "* we can only sort by the index (brand name) of both series objects so we can easily make visual comparisons\n",
        "\n",
        "Instead, we can combine the data from both series objects into a single dataframe (with a shared index) and display the dataframe directly. To do this, we'll need to learn two pandas methods:\n",
        "\n",
        "pandas series constructor\n",
        "\n",
        "pandas dataframe constructor"
      ]
    },
    {
      "cell_type": "code",
      "execution_count": null,
      "metadata": {
        "id": "q99IfAmr-rzd",
        "outputId": "54cc5ef9-0238-43a5-c6e1-ade713b453ad"
      },
      "outputs": [
        {
          "name": "stdout",
          "output_type": "stream",
          "text": [
            "volkswagen       5424\n",
            "bmw              8376\n",
            "opel             2996\n",
            "mercedes_benz    8663\n",
            "audi             9373\n",
            "ford             3762\n",
            "dtype: int64\n"
          ]
        }
      ],
      "source": [
        "bpm_series = pd.Series(brand_mean_prices) # with this series method the keys in the brand_mean_prices dictionary became the index in the series object.We can create a single-column dataframe from this series object\n",
        "print(bpm_series)"
      ]
    },
    {
      "cell_type": "code",
      "execution_count": null,
      "metadata": {
        "id": "A4nWCm3k-rzd",
        "outputId": "3303c22d-f131-42b9-ba46-3fbfdf01392b"
      },
      "outputs": [
        {
          "data": {
            "text/plain": [
              "pandas.core.series.Series"
            ]
          },
          "execution_count": 111,
          "metadata": {},
          "output_type": "execute_result"
        }
      ],
      "source": [
        "type(bpm_series)"
      ]
    },
    {
      "cell_type": "code",
      "execution_count": null,
      "metadata": {
        "id": "qkskARw4-rzd",
        "outputId": "cac244ce-d580-4887-aed5-49f8262ecc58"
      },
      "outputs": [
        {
          "data": {
            "text/plain": [
              "Index(['volkswagen', 'bmw', 'opel', 'mercedes_benz', 'audi', 'ford'], dtype='object')"
            ]
          },
          "execution_count": 112,
          "metadata": {},
          "output_type": "execute_result"
        }
      ],
      "source": [
        "bpm_series.index"
      ]
    },
    {
      "cell_type": "code",
      "execution_count": null,
      "metadata": {
        "id": "BdDedKru-rzd",
        "outputId": "798ce485-7f38-4e7e-b045-70e5e6298ae7"
      },
      "outputs": [
        {
          "data": {
            "text/html": [
              "<div>\n",
              "<style scoped>\n",
              "    .dataframe tbody tr th:only-of-type {\n",
              "        vertical-align: middle;\n",
              "    }\n",
              "\n",
              "    .dataframe tbody tr th {\n",
              "        vertical-align: top;\n",
              "    }\n",
              "\n",
              "    .dataframe thead th {\n",
              "        text-align: right;\n",
              "    }\n",
              "</style>\n",
              "<table border=\"1\" class=\"dataframe\">\n",
              "  <thead>\n",
              "    <tr style=\"text-align: right;\">\n",
              "      <th></th>\n",
              "      <th>mean_price</th>\n",
              "    </tr>\n",
              "  </thead>\n",
              "  <tbody>\n",
              "    <tr>\n",
              "      <th>volkswagen</th>\n",
              "      <td>5424</td>\n",
              "    </tr>\n",
              "    <tr>\n",
              "      <th>bmw</th>\n",
              "      <td>8376</td>\n",
              "    </tr>\n",
              "    <tr>\n",
              "      <th>opel</th>\n",
              "      <td>2996</td>\n",
              "    </tr>\n",
              "    <tr>\n",
              "      <th>mercedes_benz</th>\n",
              "      <td>8663</td>\n",
              "    </tr>\n",
              "    <tr>\n",
              "      <th>audi</th>\n",
              "      <td>9373</td>\n",
              "    </tr>\n",
              "    <tr>\n",
              "      <th>ford</th>\n",
              "      <td>3762</td>\n",
              "    </tr>\n",
              "  </tbody>\n",
              "</table>\n",
              "</div>"
            ],
            "text/plain": [
              "               mean_price\n",
              "volkswagen           5424\n",
              "bmw                  8376\n",
              "opel                 2996\n",
              "mercedes_benz        8663\n",
              "audi                 9373\n",
              "ford                 3762"
            ]
          },
          "execution_count": 118,
          "metadata": {},
          "output_type": "execute_result"
        }
      ],
      "source": [
        "df= pd.DataFrame(bpm_series, columns=['mean_price']) # adding column parameter to name the column, otherwise it will be named as default 0\n",
        "df"
      ]
    },
    {
      "cell_type": "code",
      "execution_count": null,
      "metadata": {
        "id": "uSBYybBJ-rze",
        "outputId": "7391b15a-da9d-4421-aba2-8ad496762a0f"
      },
      "outputs": [
        {
          "data": {
            "text/plain": [
              "{'volkswagen': 128771,\n",
              " 'bmw': 132651,\n",
              " 'opel': 129440,\n",
              " 'mercedes_benz': 130923,\n",
              " 'audi': 129254,\n",
              " 'ford': 124295}"
            ]
          },
          "execution_count": 120,
          "metadata": {},
          "output_type": "execute_result"
        }
      ],
      "source": [
        "brands_mean_mileage = {}\n",
        "\n",
        "for brand in common_brands:\n",
        "    brand_only = autos[autos['brand']==brand]\n",
        "    mean_mileage = brand_only['odometer_km'].mean()\n",
        "    brands_mean_mileage[brand] = int(mean_mileage)\n",
        "\n",
        "brands_mean_mileage"
      ]
    },
    {
      "cell_type": "code",
      "execution_count": null,
      "metadata": {
        "id": "LuNr0zMT-rze",
        "outputId": "40f9151a-5b40-4a50-8a24-f2e85d870726"
      },
      "outputs": [
        {
          "name": "stdout",
          "output_type": "stream",
          "text": [
            "bmw              132651\n",
            "mercedes_benz    130923\n",
            "opel             129440\n",
            "audi             129254\n",
            "volkswagen       128771\n",
            "ford             124295\n",
            "dtype: int64\n",
            "audi             9373\n",
            "mercedes_benz    8663\n",
            "bmw              8376\n",
            "volkswagen       5424\n",
            "ford             3762\n",
            "opel             2996\n",
            "dtype: int64\n"
          ]
        }
      ],
      "source": [
        "mean_mileages = pd.Series(brands_mean_mileage).sort_values(ascending=False)\n",
        "mean_prices = pd.Series(brand_mean_prices).sort_values(ascending=False)\n",
        "print(mean_mileages)\n",
        "print(mean_prices)"
      ]
    },
    {
      "cell_type": "code",
      "execution_count": null,
      "metadata": {
        "id": "aOeWLsr0-rze",
        "outputId": "582e30fc-804b-4cc4-c9ad-eb658fafcea3"
      },
      "outputs": [
        {
          "data": {
            "text/html": [
              "<div>\n",
              "<style scoped>\n",
              "    .dataframe tbody tr th:only-of-type {\n",
              "        vertical-align: middle;\n",
              "    }\n",
              "\n",
              "    .dataframe tbody tr th {\n",
              "        vertical-align: top;\n",
              "    }\n",
              "\n",
              "    .dataframe thead th {\n",
              "        text-align: right;\n",
              "    }\n",
              "</style>\n",
              "<table border=\"1\" class=\"dataframe\">\n",
              "  <thead>\n",
              "    <tr style=\"text-align: right;\">\n",
              "      <th></th>\n",
              "      <th>mean_mileage</th>\n",
              "    </tr>\n",
              "  </thead>\n",
              "  <tbody>\n",
              "    <tr>\n",
              "      <th>bmw</th>\n",
              "      <td>132651</td>\n",
              "    </tr>\n",
              "    <tr>\n",
              "      <th>mercedes_benz</th>\n",
              "      <td>130923</td>\n",
              "    </tr>\n",
              "    <tr>\n",
              "      <th>opel</th>\n",
              "      <td>129440</td>\n",
              "    </tr>\n",
              "    <tr>\n",
              "      <th>audi</th>\n",
              "      <td>129254</td>\n",
              "    </tr>\n",
              "    <tr>\n",
              "      <th>volkswagen</th>\n",
              "      <td>128771</td>\n",
              "    </tr>\n",
              "    <tr>\n",
              "      <th>ford</th>\n",
              "      <td>124295</td>\n",
              "    </tr>\n",
              "  </tbody>\n",
              "</table>\n",
              "</div>"
            ],
            "text/plain": [
              "               mean_mileage\n",
              "bmw                  132651\n",
              "mercedes_benz        130923\n",
              "opel                 129440\n",
              "audi                 129254\n",
              "volkswagen           128771\n",
              "ford                 124295"
            ]
          },
          "execution_count": 127,
          "metadata": {},
          "output_type": "execute_result"
        }
      ],
      "source": [
        "#Creating new dataframe for comparing mean mileages and mean prices together\n",
        "mean_values_for_brands = pd.DataFrame(mean_mileages,columns=['mean_mileage'])\n",
        "mean_values_for_brands"
      ]
    },
    {
      "cell_type": "code",
      "execution_count": null,
      "metadata": {
        "id": "bzV_xOHw-rze",
        "outputId": "3e0ad14f-22e6-469f-9119-285f0a0b7c89"
      },
      "outputs": [
        {
          "data": {
            "text/html": [
              "<div>\n",
              "<style scoped>\n",
              "    .dataframe tbody tr th:only-of-type {\n",
              "        vertical-align: middle;\n",
              "    }\n",
              "\n",
              "    .dataframe tbody tr th {\n",
              "        vertical-align: top;\n",
              "    }\n",
              "\n",
              "    .dataframe thead th {\n",
              "        text-align: right;\n",
              "    }\n",
              "</style>\n",
              "<table border=\"1\" class=\"dataframe\">\n",
              "  <thead>\n",
              "    <tr style=\"text-align: right;\">\n",
              "      <th></th>\n",
              "      <th>mean_mileage</th>\n",
              "      <th>mean_price</th>\n",
              "    </tr>\n",
              "  </thead>\n",
              "  <tbody>\n",
              "    <tr>\n",
              "      <th>bmw</th>\n",
              "      <td>132651</td>\n",
              "      <td>8376</td>\n",
              "    </tr>\n",
              "    <tr>\n",
              "      <th>mercedes_benz</th>\n",
              "      <td>130923</td>\n",
              "      <td>8663</td>\n",
              "    </tr>\n",
              "    <tr>\n",
              "      <th>opel</th>\n",
              "      <td>129440</td>\n",
              "      <td>2996</td>\n",
              "    </tr>\n",
              "    <tr>\n",
              "      <th>audi</th>\n",
              "      <td>129254</td>\n",
              "      <td>9373</td>\n",
              "    </tr>\n",
              "    <tr>\n",
              "      <th>volkswagen</th>\n",
              "      <td>128771</td>\n",
              "      <td>5424</td>\n",
              "    </tr>\n",
              "    <tr>\n",
              "      <th>ford</th>\n",
              "      <td>124295</td>\n",
              "      <td>3762</td>\n",
              "    </tr>\n",
              "  </tbody>\n",
              "</table>\n",
              "</div>"
            ],
            "text/plain": [
              "               mean_mileage  mean_price\n",
              "bmw                  132651        8376\n",
              "mercedes_benz        130923        8663\n",
              "opel                 129440        2996\n",
              "audi                 129254        9373\n",
              "volkswagen           128771        5424\n",
              "ford                 124295        3762"
            ]
          },
          "execution_count": 129,
          "metadata": {},
          "output_type": "execute_result"
        }
      ],
      "source": [
        "mean_values_for_brands['mean_price'] = mean_prices\n",
        "mean_values_for_brands"
      ]
    },
    {
      "cell_type": "markdown",
      "metadata": {
        "id": "JzFQUdqJ-rze"
      },
      "source": [
        "The range of car mileages does not vary as much as the prices do by brand, instead all falling within 10% for the top brands.  There is a slight trend to the more expensive vehicles having higher mileage, with the less expensive vehicles having lower mileage."
      ]
    },
    {
      "cell_type": "code",
      "execution_count": null,
      "metadata": {
        "id": "UH9J0HKb-rze"
      },
      "outputs": [],
      "source": []
    }
  ],
  "metadata": {
    "kernelspec": {
      "display_name": "Python 3 (ipykernel)",
      "language": "python",
      "name": "python3"
    },
    "language_info": {
      "codemirror_mode": {
        "name": "ipython",
        "version": 3
      },
      "file_extension": ".py",
      "mimetype": "text/x-python",
      "name": "python",
      "nbconvert_exporter": "python",
      "pygments_lexer": "ipython3",
      "version": "3.10.6"
    },
    "colab": {
      "provenance": []
    }
  },
  "nbformat": 4,
  "nbformat_minor": 0
}